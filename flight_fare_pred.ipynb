{
  "nbformat": 4,
  "nbformat_minor": 0,
  "metadata": {
    "colab": {
      "name": "flight_fare_pred.ipynb",
      "provenance": [],
      "collapsed_sections": [],
      "toc_visible": true,
      "authorship_tag": "ABX9TyNqpo/0X2ORGQMdSE5QeVnN",
      "include_colab_link": true
    },
    "kernelspec": {
      "name": "python3",
      "display_name": "Python 3"
    }
  },
  "cells": [
    {
      "cell_type": "markdown",
      "metadata": {
        "id": "view-in-github",
        "colab_type": "text"
      },
      "source": [
        "<a href=\"https://colab.research.google.com/github/vk1438/Flight_fare_prediction/blob/main/flight_fare_pred.ipynb\" target=\"_parent\"><img src=\"https://colab.research.google.com/assets/colab-badge.svg\" alt=\"Open In Colab\"/></a>"
      ]
    },
    {
      "cell_type": "code",
      "metadata": {
        "id": "LQLXvbedGGJt"
      },
      "source": [
        "import numpy as np\r\n",
        "import pandas as pd\r\n",
        "import matplotlib.pyplot as plt\r\n",
        "import seaborn as sns\r\n",
        "import warnings as w\r\n",
        "w.filterwarnings('ignore')\r\n",
        "from sklearn.preprocessing import LabelEncoder\r\n",
        "from sklearn.linear_model import LinearRegression\r\n",
        "from sklearn.model_selection import train_test_split"
      ],
      "execution_count": 3,
      "outputs": []
    },
    {
      "cell_type": "code",
      "metadata": {
        "id": "Ljn9sGDWSJYP"
      },
      "source": [
        "\r\n",
        "data=pd.read_excel('Flight_Fare.xlsx')"
      ],
      "execution_count": 4,
      "outputs": []
    },
    {
      "cell_type": "code",
      "metadata": {
        "colab": {
          "base_uri": "https://localhost:8080/",
          "height": 262
        },
        "id": "04gktfltS55l",
        "outputId": "bd037791-923c-4b22-fae8-092c1dac6ac5"
      },
      "source": [
        "data.head()"
      ],
      "execution_count": 5,
      "outputs": [
        {
          "output_type": "execute_result",
          "data": {
            "text/html": [
              "<div>\n",
              "<style scoped>\n",
              "    .dataframe tbody tr th:only-of-type {\n",
              "        vertical-align: middle;\n",
              "    }\n",
              "\n",
              "    .dataframe tbody tr th {\n",
              "        vertical-align: top;\n",
              "    }\n",
              "\n",
              "    .dataframe thead th {\n",
              "        text-align: right;\n",
              "    }\n",
              "</style>\n",
              "<table border=\"1\" class=\"dataframe\">\n",
              "  <thead>\n",
              "    <tr style=\"text-align: right;\">\n",
              "      <th></th>\n",
              "      <th>Airline</th>\n",
              "      <th>Date_of_Journey</th>\n",
              "      <th>Source</th>\n",
              "      <th>Destination</th>\n",
              "      <th>Route</th>\n",
              "      <th>Dep_Time</th>\n",
              "      <th>Arrival_Time</th>\n",
              "      <th>Duration</th>\n",
              "      <th>Total_Stops</th>\n",
              "      <th>Additional_Info</th>\n",
              "      <th>Price</th>\n",
              "    </tr>\n",
              "  </thead>\n",
              "  <tbody>\n",
              "    <tr>\n",
              "      <th>0</th>\n",
              "      <td>IndiGo</td>\n",
              "      <td>24/03/2019</td>\n",
              "      <td>Banglore</td>\n",
              "      <td>New Delhi</td>\n",
              "      <td>BLR → DEL</td>\n",
              "      <td>22:20</td>\n",
              "      <td>01:10 22 Mar</td>\n",
              "      <td>2h 50m</td>\n",
              "      <td>non-stop</td>\n",
              "      <td>No info</td>\n",
              "      <td>3897</td>\n",
              "    </tr>\n",
              "    <tr>\n",
              "      <th>1</th>\n",
              "      <td>Air India</td>\n",
              "      <td>1/05/2019</td>\n",
              "      <td>Kolkata</td>\n",
              "      <td>Banglore</td>\n",
              "      <td>CCU → IXR → BBI → BLR</td>\n",
              "      <td>05:50</td>\n",
              "      <td>13:15</td>\n",
              "      <td>7h 25m</td>\n",
              "      <td>2 stops</td>\n",
              "      <td>No info</td>\n",
              "      <td>7662</td>\n",
              "    </tr>\n",
              "    <tr>\n",
              "      <th>2</th>\n",
              "      <td>Jet Airways</td>\n",
              "      <td>9/06/2019</td>\n",
              "      <td>Delhi</td>\n",
              "      <td>Cochin</td>\n",
              "      <td>DEL → LKO → BOM → COK</td>\n",
              "      <td>09:25</td>\n",
              "      <td>04:25 10 Jun</td>\n",
              "      <td>19h</td>\n",
              "      <td>2 stops</td>\n",
              "      <td>No info</td>\n",
              "      <td>13882</td>\n",
              "    </tr>\n",
              "    <tr>\n",
              "      <th>3</th>\n",
              "      <td>IndiGo</td>\n",
              "      <td>12/05/2019</td>\n",
              "      <td>Kolkata</td>\n",
              "      <td>Banglore</td>\n",
              "      <td>CCU → NAG → BLR</td>\n",
              "      <td>18:05</td>\n",
              "      <td>23:30</td>\n",
              "      <td>5h 25m</td>\n",
              "      <td>1 stop</td>\n",
              "      <td>No info</td>\n",
              "      <td>6218</td>\n",
              "    </tr>\n",
              "    <tr>\n",
              "      <th>4</th>\n",
              "      <td>IndiGo</td>\n",
              "      <td>01/03/2019</td>\n",
              "      <td>Banglore</td>\n",
              "      <td>New Delhi</td>\n",
              "      <td>BLR → NAG → DEL</td>\n",
              "      <td>16:50</td>\n",
              "      <td>21:35</td>\n",
              "      <td>4h 45m</td>\n",
              "      <td>1 stop</td>\n",
              "      <td>No info</td>\n",
              "      <td>13302</td>\n",
              "    </tr>\n",
              "  </tbody>\n",
              "</table>\n",
              "</div>"
            ],
            "text/plain": [
              "       Airline Date_of_Journey    Source  ... Total_Stops Additional_Info  Price\n",
              "0       IndiGo      24/03/2019  Banglore  ...    non-stop         No info   3897\n",
              "1    Air India       1/05/2019   Kolkata  ...     2 stops         No info   7662\n",
              "2  Jet Airways       9/06/2019     Delhi  ...     2 stops         No info  13882\n",
              "3       IndiGo      12/05/2019   Kolkata  ...      1 stop         No info   6218\n",
              "4       IndiGo      01/03/2019  Banglore  ...      1 stop         No info  13302\n",
              "\n",
              "[5 rows x 11 columns]"
            ]
          },
          "metadata": {
            "tags": []
          },
          "execution_count": 5
        }
      ]
    },
    {
      "cell_type": "code",
      "metadata": {
        "colab": {
          "base_uri": "https://localhost:8080/"
        },
        "id": "-0WBw7sFS7rv",
        "outputId": "f986194f-dba2-41a2-d279-7e0e5b1a7732"
      },
      "source": [
        "data.info()"
      ],
      "execution_count": 6,
      "outputs": [
        {
          "output_type": "stream",
          "text": [
            "<class 'pandas.core.frame.DataFrame'>\n",
            "RangeIndex: 10683 entries, 0 to 10682\n",
            "Data columns (total 11 columns):\n",
            " #   Column           Non-Null Count  Dtype \n",
            "---  ------           --------------  ----- \n",
            " 0   Airline          10683 non-null  object\n",
            " 1   Date_of_Journey  10683 non-null  object\n",
            " 2   Source           10683 non-null  object\n",
            " 3   Destination      10683 non-null  object\n",
            " 4   Route            10682 non-null  object\n",
            " 5   Dep_Time         10683 non-null  object\n",
            " 6   Arrival_Time     10683 non-null  object\n",
            " 7   Duration         10683 non-null  object\n",
            " 8   Total_Stops      10682 non-null  object\n",
            " 9   Additional_Info  10683 non-null  object\n",
            " 10  Price            10683 non-null  int64 \n",
            "dtypes: int64(1), object(10)\n",
            "memory usage: 918.2+ KB\n"
          ],
          "name": "stdout"
        }
      ]
    },
    {
      "cell_type": "code",
      "metadata": {
        "colab": {
          "base_uri": "https://localhost:8080/",
          "height": 284
        },
        "id": "4y8eBg5lS-G6",
        "outputId": "58f6ac13-713d-4ce0-bff8-b0611438fda5"
      },
      "source": [
        "data.describe()"
      ],
      "execution_count": 7,
      "outputs": [
        {
          "output_type": "execute_result",
          "data": {
            "text/html": [
              "<div>\n",
              "<style scoped>\n",
              "    .dataframe tbody tr th:only-of-type {\n",
              "        vertical-align: middle;\n",
              "    }\n",
              "\n",
              "    .dataframe tbody tr th {\n",
              "        vertical-align: top;\n",
              "    }\n",
              "\n",
              "    .dataframe thead th {\n",
              "        text-align: right;\n",
              "    }\n",
              "</style>\n",
              "<table border=\"1\" class=\"dataframe\">\n",
              "  <thead>\n",
              "    <tr style=\"text-align: right;\">\n",
              "      <th></th>\n",
              "      <th>Price</th>\n",
              "    </tr>\n",
              "  </thead>\n",
              "  <tbody>\n",
              "    <tr>\n",
              "      <th>count</th>\n",
              "      <td>10683.000000</td>\n",
              "    </tr>\n",
              "    <tr>\n",
              "      <th>mean</th>\n",
              "      <td>9087.064121</td>\n",
              "    </tr>\n",
              "    <tr>\n",
              "      <th>std</th>\n",
              "      <td>4611.359167</td>\n",
              "    </tr>\n",
              "    <tr>\n",
              "      <th>min</th>\n",
              "      <td>1759.000000</td>\n",
              "    </tr>\n",
              "    <tr>\n",
              "      <th>25%</th>\n",
              "      <td>5277.000000</td>\n",
              "    </tr>\n",
              "    <tr>\n",
              "      <th>50%</th>\n",
              "      <td>8372.000000</td>\n",
              "    </tr>\n",
              "    <tr>\n",
              "      <th>75%</th>\n",
              "      <td>12373.000000</td>\n",
              "    </tr>\n",
              "    <tr>\n",
              "      <th>max</th>\n",
              "      <td>79512.000000</td>\n",
              "    </tr>\n",
              "  </tbody>\n",
              "</table>\n",
              "</div>"
            ],
            "text/plain": [
              "              Price\n",
              "count  10683.000000\n",
              "mean    9087.064121\n",
              "std     4611.359167\n",
              "min     1759.000000\n",
              "25%     5277.000000\n",
              "50%     8372.000000\n",
              "75%    12373.000000\n",
              "max    79512.000000"
            ]
          },
          "metadata": {
            "tags": []
          },
          "execution_count": 7
        }
      ]
    },
    {
      "cell_type": "code",
      "metadata": {
        "id": "B7e3-NPVTAyO"
      },
      "source": [
        "data.dropna(inplace=True)"
      ],
      "execution_count": 8,
      "outputs": []
    },
    {
      "cell_type": "code",
      "metadata": {
        "colab": {
          "base_uri": "https://localhost:8080/",
          "height": 262
        },
        "id": "hrUWtT0iTG6U",
        "outputId": "a5f095a6-085a-4fd6-c952-04aeb34aa44e"
      },
      "source": [
        "data.head()"
      ],
      "execution_count": 9,
      "outputs": [
        {
          "output_type": "execute_result",
          "data": {
            "text/html": [
              "<div>\n",
              "<style scoped>\n",
              "    .dataframe tbody tr th:only-of-type {\n",
              "        vertical-align: middle;\n",
              "    }\n",
              "\n",
              "    .dataframe tbody tr th {\n",
              "        vertical-align: top;\n",
              "    }\n",
              "\n",
              "    .dataframe thead th {\n",
              "        text-align: right;\n",
              "    }\n",
              "</style>\n",
              "<table border=\"1\" class=\"dataframe\">\n",
              "  <thead>\n",
              "    <tr style=\"text-align: right;\">\n",
              "      <th></th>\n",
              "      <th>Airline</th>\n",
              "      <th>Date_of_Journey</th>\n",
              "      <th>Source</th>\n",
              "      <th>Destination</th>\n",
              "      <th>Route</th>\n",
              "      <th>Dep_Time</th>\n",
              "      <th>Arrival_Time</th>\n",
              "      <th>Duration</th>\n",
              "      <th>Total_Stops</th>\n",
              "      <th>Additional_Info</th>\n",
              "      <th>Price</th>\n",
              "    </tr>\n",
              "  </thead>\n",
              "  <tbody>\n",
              "    <tr>\n",
              "      <th>0</th>\n",
              "      <td>IndiGo</td>\n",
              "      <td>24/03/2019</td>\n",
              "      <td>Banglore</td>\n",
              "      <td>New Delhi</td>\n",
              "      <td>BLR → DEL</td>\n",
              "      <td>22:20</td>\n",
              "      <td>01:10 22 Mar</td>\n",
              "      <td>2h 50m</td>\n",
              "      <td>non-stop</td>\n",
              "      <td>No info</td>\n",
              "      <td>3897</td>\n",
              "    </tr>\n",
              "    <tr>\n",
              "      <th>1</th>\n",
              "      <td>Air India</td>\n",
              "      <td>1/05/2019</td>\n",
              "      <td>Kolkata</td>\n",
              "      <td>Banglore</td>\n",
              "      <td>CCU → IXR → BBI → BLR</td>\n",
              "      <td>05:50</td>\n",
              "      <td>13:15</td>\n",
              "      <td>7h 25m</td>\n",
              "      <td>2 stops</td>\n",
              "      <td>No info</td>\n",
              "      <td>7662</td>\n",
              "    </tr>\n",
              "    <tr>\n",
              "      <th>2</th>\n",
              "      <td>Jet Airways</td>\n",
              "      <td>9/06/2019</td>\n",
              "      <td>Delhi</td>\n",
              "      <td>Cochin</td>\n",
              "      <td>DEL → LKO → BOM → COK</td>\n",
              "      <td>09:25</td>\n",
              "      <td>04:25 10 Jun</td>\n",
              "      <td>19h</td>\n",
              "      <td>2 stops</td>\n",
              "      <td>No info</td>\n",
              "      <td>13882</td>\n",
              "    </tr>\n",
              "    <tr>\n",
              "      <th>3</th>\n",
              "      <td>IndiGo</td>\n",
              "      <td>12/05/2019</td>\n",
              "      <td>Kolkata</td>\n",
              "      <td>Banglore</td>\n",
              "      <td>CCU → NAG → BLR</td>\n",
              "      <td>18:05</td>\n",
              "      <td>23:30</td>\n",
              "      <td>5h 25m</td>\n",
              "      <td>1 stop</td>\n",
              "      <td>No info</td>\n",
              "      <td>6218</td>\n",
              "    </tr>\n",
              "    <tr>\n",
              "      <th>4</th>\n",
              "      <td>IndiGo</td>\n",
              "      <td>01/03/2019</td>\n",
              "      <td>Banglore</td>\n",
              "      <td>New Delhi</td>\n",
              "      <td>BLR → NAG → DEL</td>\n",
              "      <td>16:50</td>\n",
              "      <td>21:35</td>\n",
              "      <td>4h 45m</td>\n",
              "      <td>1 stop</td>\n",
              "      <td>No info</td>\n",
              "      <td>13302</td>\n",
              "    </tr>\n",
              "  </tbody>\n",
              "</table>\n",
              "</div>"
            ],
            "text/plain": [
              "       Airline Date_of_Journey    Source  ... Total_Stops Additional_Info  Price\n",
              "0       IndiGo      24/03/2019  Banglore  ...    non-stop         No info   3897\n",
              "1    Air India       1/05/2019   Kolkata  ...     2 stops         No info   7662\n",
              "2  Jet Airways       9/06/2019     Delhi  ...     2 stops         No info  13882\n",
              "3       IndiGo      12/05/2019   Kolkata  ...      1 stop         No info   6218\n",
              "4       IndiGo      01/03/2019  Banglore  ...      1 stop         No info  13302\n",
              "\n",
              "[5 rows x 11 columns]"
            ]
          },
          "metadata": {
            "tags": []
          },
          "execution_count": 9
        }
      ]
    },
    {
      "cell_type": "code",
      "metadata": {
        "id": "IoP8hzjKTJ1X"
      },
      "source": [
        "data=data.drop('Additional_Info',axis=1)"
      ],
      "execution_count": 10,
      "outputs": []
    },
    {
      "cell_type": "code",
      "metadata": {
        "colab": {
          "base_uri": "https://localhost:8080/",
          "height": 195
        },
        "id": "S-5t3Y1ITV5g",
        "outputId": "183fef40-73a9-404e-8269-5e7a83f5ca47"
      },
      "source": [
        "data.head()"
      ],
      "execution_count": 11,
      "outputs": [
        {
          "output_type": "execute_result",
          "data": {
            "text/html": [
              "<div>\n",
              "<style scoped>\n",
              "    .dataframe tbody tr th:only-of-type {\n",
              "        vertical-align: middle;\n",
              "    }\n",
              "\n",
              "    .dataframe tbody tr th {\n",
              "        vertical-align: top;\n",
              "    }\n",
              "\n",
              "    .dataframe thead th {\n",
              "        text-align: right;\n",
              "    }\n",
              "</style>\n",
              "<table border=\"1\" class=\"dataframe\">\n",
              "  <thead>\n",
              "    <tr style=\"text-align: right;\">\n",
              "      <th></th>\n",
              "      <th>Airline</th>\n",
              "      <th>Date_of_Journey</th>\n",
              "      <th>Source</th>\n",
              "      <th>Destination</th>\n",
              "      <th>Route</th>\n",
              "      <th>Dep_Time</th>\n",
              "      <th>Arrival_Time</th>\n",
              "      <th>Duration</th>\n",
              "      <th>Total_Stops</th>\n",
              "      <th>Price</th>\n",
              "    </tr>\n",
              "  </thead>\n",
              "  <tbody>\n",
              "    <tr>\n",
              "      <th>0</th>\n",
              "      <td>IndiGo</td>\n",
              "      <td>24/03/2019</td>\n",
              "      <td>Banglore</td>\n",
              "      <td>New Delhi</td>\n",
              "      <td>BLR → DEL</td>\n",
              "      <td>22:20</td>\n",
              "      <td>01:10 22 Mar</td>\n",
              "      <td>2h 50m</td>\n",
              "      <td>non-stop</td>\n",
              "      <td>3897</td>\n",
              "    </tr>\n",
              "    <tr>\n",
              "      <th>1</th>\n",
              "      <td>Air India</td>\n",
              "      <td>1/05/2019</td>\n",
              "      <td>Kolkata</td>\n",
              "      <td>Banglore</td>\n",
              "      <td>CCU → IXR → BBI → BLR</td>\n",
              "      <td>05:50</td>\n",
              "      <td>13:15</td>\n",
              "      <td>7h 25m</td>\n",
              "      <td>2 stops</td>\n",
              "      <td>7662</td>\n",
              "    </tr>\n",
              "    <tr>\n",
              "      <th>2</th>\n",
              "      <td>Jet Airways</td>\n",
              "      <td>9/06/2019</td>\n",
              "      <td>Delhi</td>\n",
              "      <td>Cochin</td>\n",
              "      <td>DEL → LKO → BOM → COK</td>\n",
              "      <td>09:25</td>\n",
              "      <td>04:25 10 Jun</td>\n",
              "      <td>19h</td>\n",
              "      <td>2 stops</td>\n",
              "      <td>13882</td>\n",
              "    </tr>\n",
              "    <tr>\n",
              "      <th>3</th>\n",
              "      <td>IndiGo</td>\n",
              "      <td>12/05/2019</td>\n",
              "      <td>Kolkata</td>\n",
              "      <td>Banglore</td>\n",
              "      <td>CCU → NAG → BLR</td>\n",
              "      <td>18:05</td>\n",
              "      <td>23:30</td>\n",
              "      <td>5h 25m</td>\n",
              "      <td>1 stop</td>\n",
              "      <td>6218</td>\n",
              "    </tr>\n",
              "    <tr>\n",
              "      <th>4</th>\n",
              "      <td>IndiGo</td>\n",
              "      <td>01/03/2019</td>\n",
              "      <td>Banglore</td>\n",
              "      <td>New Delhi</td>\n",
              "      <td>BLR → NAG → DEL</td>\n",
              "      <td>16:50</td>\n",
              "      <td>21:35</td>\n",
              "      <td>4h 45m</td>\n",
              "      <td>1 stop</td>\n",
              "      <td>13302</td>\n",
              "    </tr>\n",
              "  </tbody>\n",
              "</table>\n",
              "</div>"
            ],
            "text/plain": [
              "       Airline Date_of_Journey    Source  ... Duration Total_Stops  Price\n",
              "0       IndiGo      24/03/2019  Banglore  ...   2h 50m    non-stop   3897\n",
              "1    Air India       1/05/2019   Kolkata  ...   7h 25m     2 stops   7662\n",
              "2  Jet Airways       9/06/2019     Delhi  ...      19h     2 stops  13882\n",
              "3       IndiGo      12/05/2019   Kolkata  ...   5h 25m      1 stop   6218\n",
              "4       IndiGo      01/03/2019  Banglore  ...   4h 45m      1 stop  13302\n",
              "\n",
              "[5 rows x 10 columns]"
            ]
          },
          "metadata": {
            "tags": []
          },
          "execution_count": 11
        }
      ]
    },
    {
      "cell_type": "code",
      "metadata": {
        "colab": {
          "base_uri": "https://localhost:8080/"
        },
        "id": "r2TTao7WTjEP",
        "outputId": "a029ba4b-4d44-4567-dff9-f2d7b70fc3a0"
      },
      "source": [
        "data.shape"
      ],
      "execution_count": 12,
      "outputs": [
        {
          "output_type": "execute_result",
          "data": {
            "text/plain": [
              "(10682, 10)"
            ]
          },
          "metadata": {
            "tags": []
          },
          "execution_count": 12
        }
      ]
    },
    {
      "cell_type": "code",
      "metadata": {
        "id": "DTX2h5HZTmFA"
      },
      "source": [
        "data['Journey_day']=pd.to_datetime(data.Date_of_Journey,format='%d/%m/%Y').dt.day\r\n",
        "data['journey_month']=pd.to_datetime(data.Date_of_Journey,format='%d/%m/%Y').dt.month\r\n",
        "#data['journey_week']=pd.to_datetime(data.Date_of_Journey,format='%d/%m/%Y').dt.week"
      ],
      "execution_count": 13,
      "outputs": []
    },
    {
      "cell_type": "code",
      "metadata": {
        "id": "Ymn0aYXjYKTJ"
      },
      "source": [
        "data=data.drop('Date_of_Journey',axis=1)"
      ],
      "execution_count": 14,
      "outputs": []
    },
    {
      "cell_type": "code",
      "metadata": {
        "colab": {
          "base_uri": "https://localhost:8080/",
          "height": 229
        },
        "id": "tIOEPCrvYbDp",
        "outputId": "35f329f9-9860-4187-f97f-70d23f33ddea"
      },
      "source": [
        "data.head()"
      ],
      "execution_count": 15,
      "outputs": [
        {
          "output_type": "execute_result",
          "data": {
            "text/html": [
              "<div>\n",
              "<style scoped>\n",
              "    .dataframe tbody tr th:only-of-type {\n",
              "        vertical-align: middle;\n",
              "    }\n",
              "\n",
              "    .dataframe tbody tr th {\n",
              "        vertical-align: top;\n",
              "    }\n",
              "\n",
              "    .dataframe thead th {\n",
              "        text-align: right;\n",
              "    }\n",
              "</style>\n",
              "<table border=\"1\" class=\"dataframe\">\n",
              "  <thead>\n",
              "    <tr style=\"text-align: right;\">\n",
              "      <th></th>\n",
              "      <th>Airline</th>\n",
              "      <th>Source</th>\n",
              "      <th>Destination</th>\n",
              "      <th>Route</th>\n",
              "      <th>Dep_Time</th>\n",
              "      <th>Arrival_Time</th>\n",
              "      <th>Duration</th>\n",
              "      <th>Total_Stops</th>\n",
              "      <th>Price</th>\n",
              "      <th>Journey_day</th>\n",
              "      <th>journey_month</th>\n",
              "    </tr>\n",
              "  </thead>\n",
              "  <tbody>\n",
              "    <tr>\n",
              "      <th>0</th>\n",
              "      <td>IndiGo</td>\n",
              "      <td>Banglore</td>\n",
              "      <td>New Delhi</td>\n",
              "      <td>BLR → DEL</td>\n",
              "      <td>22:20</td>\n",
              "      <td>01:10 22 Mar</td>\n",
              "      <td>2h 50m</td>\n",
              "      <td>non-stop</td>\n",
              "      <td>3897</td>\n",
              "      <td>24</td>\n",
              "      <td>3</td>\n",
              "    </tr>\n",
              "    <tr>\n",
              "      <th>1</th>\n",
              "      <td>Air India</td>\n",
              "      <td>Kolkata</td>\n",
              "      <td>Banglore</td>\n",
              "      <td>CCU → IXR → BBI → BLR</td>\n",
              "      <td>05:50</td>\n",
              "      <td>13:15</td>\n",
              "      <td>7h 25m</td>\n",
              "      <td>2 stops</td>\n",
              "      <td>7662</td>\n",
              "      <td>1</td>\n",
              "      <td>5</td>\n",
              "    </tr>\n",
              "    <tr>\n",
              "      <th>2</th>\n",
              "      <td>Jet Airways</td>\n",
              "      <td>Delhi</td>\n",
              "      <td>Cochin</td>\n",
              "      <td>DEL → LKO → BOM → COK</td>\n",
              "      <td>09:25</td>\n",
              "      <td>04:25 10 Jun</td>\n",
              "      <td>19h</td>\n",
              "      <td>2 stops</td>\n",
              "      <td>13882</td>\n",
              "      <td>9</td>\n",
              "      <td>6</td>\n",
              "    </tr>\n",
              "    <tr>\n",
              "      <th>3</th>\n",
              "      <td>IndiGo</td>\n",
              "      <td>Kolkata</td>\n",
              "      <td>Banglore</td>\n",
              "      <td>CCU → NAG → BLR</td>\n",
              "      <td>18:05</td>\n",
              "      <td>23:30</td>\n",
              "      <td>5h 25m</td>\n",
              "      <td>1 stop</td>\n",
              "      <td>6218</td>\n",
              "      <td>12</td>\n",
              "      <td>5</td>\n",
              "    </tr>\n",
              "    <tr>\n",
              "      <th>4</th>\n",
              "      <td>IndiGo</td>\n",
              "      <td>Banglore</td>\n",
              "      <td>New Delhi</td>\n",
              "      <td>BLR → NAG → DEL</td>\n",
              "      <td>16:50</td>\n",
              "      <td>21:35</td>\n",
              "      <td>4h 45m</td>\n",
              "      <td>1 stop</td>\n",
              "      <td>13302</td>\n",
              "      <td>1</td>\n",
              "      <td>3</td>\n",
              "    </tr>\n",
              "  </tbody>\n",
              "</table>\n",
              "</div>"
            ],
            "text/plain": [
              "       Airline    Source Destination  ...  Price Journey_day journey_month\n",
              "0       IndiGo  Banglore   New Delhi  ...   3897          24             3\n",
              "1    Air India   Kolkata    Banglore  ...   7662           1             5\n",
              "2  Jet Airways     Delhi      Cochin  ...  13882           9             6\n",
              "3       IndiGo   Kolkata    Banglore  ...   6218          12             5\n",
              "4       IndiGo  Banglore   New Delhi  ...  13302           1             3\n",
              "\n",
              "[5 rows x 11 columns]"
            ]
          },
          "metadata": {
            "tags": []
          },
          "execution_count": 15
        }
      ]
    },
    {
      "cell_type": "code",
      "metadata": {
        "id": "UTAt_y1bYcSS"
      },
      "source": [
        "data['Dep_hour']=pd.to_datetime(data.Dep_Time).dt.hour\r\n",
        "data['Dep_min']=pd.to_datetime(data.Dep_Time).dt.minute\r\n",
        "\r\n",
        "\r\n"
      ],
      "execution_count": 16,
      "outputs": []
    },
    {
      "cell_type": "code",
      "metadata": {
        "id": "RacNTS4AZKLT"
      },
      "source": [
        "data=data.drop('Dep_Time',axis=1)"
      ],
      "execution_count": 17,
      "outputs": []
    },
    {
      "cell_type": "code",
      "metadata": {
        "id": "v27bt9RpZQ6a"
      },
      "source": [
        "data['Arrival_hour']=pd.to_datetime(data.Arrival_Time).dt.hour\r\n",
        "data['Arrival_min']=pd.to_datetime(data.Arrival_Time).dt.minute"
      ],
      "execution_count": 18,
      "outputs": []
    },
    {
      "cell_type": "code",
      "metadata": {
        "id": "3JNa9A0gZTbb"
      },
      "source": [
        "data=data.drop('Arrival_Time',axis=1)"
      ],
      "execution_count": 19,
      "outputs": []
    },
    {
      "cell_type": "code",
      "metadata": {
        "colab": {
          "base_uri": "https://localhost:8080/",
          "height": 450
        },
        "id": "GAYdhSt8Z5EH",
        "outputId": "82475708-b07e-41e7-d74d-caacbf271535"
      },
      "source": [
        "data.head()"
      ],
      "execution_count": 20,
      "outputs": [
        {
          "output_type": "execute_result",
          "data": {
            "text/html": [
              "<div>\n",
              "<style scoped>\n",
              "    .dataframe tbody tr th:only-of-type {\n",
              "        vertical-align: middle;\n",
              "    }\n",
              "\n",
              "    .dataframe tbody tr th {\n",
              "        vertical-align: top;\n",
              "    }\n",
              "\n",
              "    .dataframe thead th {\n",
              "        text-align: right;\n",
              "    }\n",
              "</style>\n",
              "<table border=\"1\" class=\"dataframe\">\n",
              "  <thead>\n",
              "    <tr style=\"text-align: right;\">\n",
              "      <th></th>\n",
              "      <th>Airline</th>\n",
              "      <th>Source</th>\n",
              "      <th>Destination</th>\n",
              "      <th>Route</th>\n",
              "      <th>Duration</th>\n",
              "      <th>Total_Stops</th>\n",
              "      <th>Price</th>\n",
              "      <th>Journey_day</th>\n",
              "      <th>journey_month</th>\n",
              "      <th>Dep_hour</th>\n",
              "      <th>Dep_min</th>\n",
              "      <th>Arrival_hour</th>\n",
              "      <th>Arrival_min</th>\n",
              "    </tr>\n",
              "  </thead>\n",
              "  <tbody>\n",
              "    <tr>\n",
              "      <th>0</th>\n",
              "      <td>IndiGo</td>\n",
              "      <td>Banglore</td>\n",
              "      <td>New Delhi</td>\n",
              "      <td>BLR → DEL</td>\n",
              "      <td>2h 50m</td>\n",
              "      <td>non-stop</td>\n",
              "      <td>3897</td>\n",
              "      <td>24</td>\n",
              "      <td>3</td>\n",
              "      <td>22</td>\n",
              "      <td>20</td>\n",
              "      <td>1</td>\n",
              "      <td>10</td>\n",
              "    </tr>\n",
              "    <tr>\n",
              "      <th>1</th>\n",
              "      <td>Air India</td>\n",
              "      <td>Kolkata</td>\n",
              "      <td>Banglore</td>\n",
              "      <td>CCU → IXR → BBI → BLR</td>\n",
              "      <td>7h 25m</td>\n",
              "      <td>2 stops</td>\n",
              "      <td>7662</td>\n",
              "      <td>1</td>\n",
              "      <td>5</td>\n",
              "      <td>5</td>\n",
              "      <td>50</td>\n",
              "      <td>13</td>\n",
              "      <td>15</td>\n",
              "    </tr>\n",
              "    <tr>\n",
              "      <th>2</th>\n",
              "      <td>Jet Airways</td>\n",
              "      <td>Delhi</td>\n",
              "      <td>Cochin</td>\n",
              "      <td>DEL → LKO → BOM → COK</td>\n",
              "      <td>19h</td>\n",
              "      <td>2 stops</td>\n",
              "      <td>13882</td>\n",
              "      <td>9</td>\n",
              "      <td>6</td>\n",
              "      <td>9</td>\n",
              "      <td>25</td>\n",
              "      <td>4</td>\n",
              "      <td>25</td>\n",
              "    </tr>\n",
              "    <tr>\n",
              "      <th>3</th>\n",
              "      <td>IndiGo</td>\n",
              "      <td>Kolkata</td>\n",
              "      <td>Banglore</td>\n",
              "      <td>CCU → NAG → BLR</td>\n",
              "      <td>5h 25m</td>\n",
              "      <td>1 stop</td>\n",
              "      <td>6218</td>\n",
              "      <td>12</td>\n",
              "      <td>5</td>\n",
              "      <td>18</td>\n",
              "      <td>5</td>\n",
              "      <td>23</td>\n",
              "      <td>30</td>\n",
              "    </tr>\n",
              "    <tr>\n",
              "      <th>4</th>\n",
              "      <td>IndiGo</td>\n",
              "      <td>Banglore</td>\n",
              "      <td>New Delhi</td>\n",
              "      <td>BLR → NAG → DEL</td>\n",
              "      <td>4h 45m</td>\n",
              "      <td>1 stop</td>\n",
              "      <td>13302</td>\n",
              "      <td>1</td>\n",
              "      <td>3</td>\n",
              "      <td>16</td>\n",
              "      <td>50</td>\n",
              "      <td>21</td>\n",
              "      <td>35</td>\n",
              "    </tr>\n",
              "  </tbody>\n",
              "</table>\n",
              "</div>"
            ],
            "text/plain": [
              "       Airline    Source Destination  ... Dep_min Arrival_hour Arrival_min\n",
              "0       IndiGo  Banglore   New Delhi  ...      20            1          10\n",
              "1    Air India   Kolkata    Banglore  ...      50           13          15\n",
              "2  Jet Airways     Delhi      Cochin  ...      25            4          25\n",
              "3       IndiGo   Kolkata    Banglore  ...       5           23          30\n",
              "4       IndiGo  Banglore   New Delhi  ...      50           21          35\n",
              "\n",
              "[5 rows x 13 columns]"
            ]
          },
          "metadata": {
            "tags": []
          },
          "execution_count": 20
        }
      ]
    },
    {
      "cell_type": "code",
      "metadata": {
        "id": "TKr4w_s6aDPW"
      },
      "source": [
        "data=data.drop('Route',axis=1)"
      ],
      "execution_count": 21,
      "outputs": []
    },
    {
      "cell_type": "code",
      "metadata": {
        "colab": {
          "base_uri": "https://localhost:8080/",
          "height": 232
        },
        "id": "HG_49N6Wbr9e",
        "outputId": "302fbf59-8a48-4e9b-9503-4e0f00ab6a3d"
      },
      "source": [
        "data.head()"
      ],
      "execution_count": 22,
      "outputs": [
        {
          "output_type": "execute_result",
          "data": {
            "text/html": [
              "<div>\n",
              "<style scoped>\n",
              "    .dataframe tbody tr th:only-of-type {\n",
              "        vertical-align: middle;\n",
              "    }\n",
              "\n",
              "    .dataframe tbody tr th {\n",
              "        vertical-align: top;\n",
              "    }\n",
              "\n",
              "    .dataframe thead th {\n",
              "        text-align: right;\n",
              "    }\n",
              "</style>\n",
              "<table border=\"1\" class=\"dataframe\">\n",
              "  <thead>\n",
              "    <tr style=\"text-align: right;\">\n",
              "      <th></th>\n",
              "      <th>Airline</th>\n",
              "      <th>Source</th>\n",
              "      <th>Destination</th>\n",
              "      <th>Duration</th>\n",
              "      <th>Total_Stops</th>\n",
              "      <th>Price</th>\n",
              "      <th>Journey_day</th>\n",
              "      <th>journey_month</th>\n",
              "      <th>Dep_hour</th>\n",
              "      <th>Dep_min</th>\n",
              "      <th>Arrival_hour</th>\n",
              "      <th>Arrival_min</th>\n",
              "    </tr>\n",
              "  </thead>\n",
              "  <tbody>\n",
              "    <tr>\n",
              "      <th>0</th>\n",
              "      <td>IndiGo</td>\n",
              "      <td>Banglore</td>\n",
              "      <td>New Delhi</td>\n",
              "      <td>2h 50m</td>\n",
              "      <td>non-stop</td>\n",
              "      <td>3897</td>\n",
              "      <td>24</td>\n",
              "      <td>3</td>\n",
              "      <td>22</td>\n",
              "      <td>20</td>\n",
              "      <td>1</td>\n",
              "      <td>10</td>\n",
              "    </tr>\n",
              "    <tr>\n",
              "      <th>1</th>\n",
              "      <td>Air India</td>\n",
              "      <td>Kolkata</td>\n",
              "      <td>Banglore</td>\n",
              "      <td>7h 25m</td>\n",
              "      <td>2 stops</td>\n",
              "      <td>7662</td>\n",
              "      <td>1</td>\n",
              "      <td>5</td>\n",
              "      <td>5</td>\n",
              "      <td>50</td>\n",
              "      <td>13</td>\n",
              "      <td>15</td>\n",
              "    </tr>\n",
              "    <tr>\n",
              "      <th>2</th>\n",
              "      <td>Jet Airways</td>\n",
              "      <td>Delhi</td>\n",
              "      <td>Cochin</td>\n",
              "      <td>19h</td>\n",
              "      <td>2 stops</td>\n",
              "      <td>13882</td>\n",
              "      <td>9</td>\n",
              "      <td>6</td>\n",
              "      <td>9</td>\n",
              "      <td>25</td>\n",
              "      <td>4</td>\n",
              "      <td>25</td>\n",
              "    </tr>\n",
              "    <tr>\n",
              "      <th>3</th>\n",
              "      <td>IndiGo</td>\n",
              "      <td>Kolkata</td>\n",
              "      <td>Banglore</td>\n",
              "      <td>5h 25m</td>\n",
              "      <td>1 stop</td>\n",
              "      <td>6218</td>\n",
              "      <td>12</td>\n",
              "      <td>5</td>\n",
              "      <td>18</td>\n",
              "      <td>5</td>\n",
              "      <td>23</td>\n",
              "      <td>30</td>\n",
              "    </tr>\n",
              "    <tr>\n",
              "      <th>4</th>\n",
              "      <td>IndiGo</td>\n",
              "      <td>Banglore</td>\n",
              "      <td>New Delhi</td>\n",
              "      <td>4h 45m</td>\n",
              "      <td>1 stop</td>\n",
              "      <td>13302</td>\n",
              "      <td>1</td>\n",
              "      <td>3</td>\n",
              "      <td>16</td>\n",
              "      <td>50</td>\n",
              "      <td>21</td>\n",
              "      <td>35</td>\n",
              "    </tr>\n",
              "  </tbody>\n",
              "</table>\n",
              "</div>"
            ],
            "text/plain": [
              "       Airline    Source Destination  ... Dep_min Arrival_hour  Arrival_min\n",
              "0       IndiGo  Banglore   New Delhi  ...      20            1           10\n",
              "1    Air India   Kolkata    Banglore  ...      50           13           15\n",
              "2  Jet Airways     Delhi      Cochin  ...      25            4           25\n",
              "3       IndiGo   Kolkata    Banglore  ...       5           23           30\n",
              "4       IndiGo  Banglore   New Delhi  ...      50           21           35\n",
              "\n",
              "[5 rows x 12 columns]"
            ]
          },
          "metadata": {
            "tags": []
          },
          "execution_count": 22
        }
      ]
    },
    {
      "cell_type": "code",
      "metadata": {
        "id": "QoJPDhrfbtXp"
      },
      "source": [
        "data.replace({\"non-stop\":0,'1 stop':1,'2 stops':2,'3 stops':3,'4 stops':4},inplace=True)"
      ],
      "execution_count": 23,
      "outputs": []
    },
    {
      "cell_type": "code",
      "metadata": {
        "colab": {
          "base_uri": "https://localhost:8080/",
          "height": 232
        },
        "id": "SfbbBP42cX_4",
        "outputId": "fae5e5ca-6a14-47f8-acb3-5f18b8e6c97a"
      },
      "source": [
        "data.head()"
      ],
      "execution_count": 24,
      "outputs": [
        {
          "output_type": "execute_result",
          "data": {
            "text/html": [
              "<div>\n",
              "<style scoped>\n",
              "    .dataframe tbody tr th:only-of-type {\n",
              "        vertical-align: middle;\n",
              "    }\n",
              "\n",
              "    .dataframe tbody tr th {\n",
              "        vertical-align: top;\n",
              "    }\n",
              "\n",
              "    .dataframe thead th {\n",
              "        text-align: right;\n",
              "    }\n",
              "</style>\n",
              "<table border=\"1\" class=\"dataframe\">\n",
              "  <thead>\n",
              "    <tr style=\"text-align: right;\">\n",
              "      <th></th>\n",
              "      <th>Airline</th>\n",
              "      <th>Source</th>\n",
              "      <th>Destination</th>\n",
              "      <th>Duration</th>\n",
              "      <th>Total_Stops</th>\n",
              "      <th>Price</th>\n",
              "      <th>Journey_day</th>\n",
              "      <th>journey_month</th>\n",
              "      <th>Dep_hour</th>\n",
              "      <th>Dep_min</th>\n",
              "      <th>Arrival_hour</th>\n",
              "      <th>Arrival_min</th>\n",
              "    </tr>\n",
              "  </thead>\n",
              "  <tbody>\n",
              "    <tr>\n",
              "      <th>0</th>\n",
              "      <td>IndiGo</td>\n",
              "      <td>Banglore</td>\n",
              "      <td>New Delhi</td>\n",
              "      <td>2h 50m</td>\n",
              "      <td>0</td>\n",
              "      <td>3897</td>\n",
              "      <td>24</td>\n",
              "      <td>3</td>\n",
              "      <td>22</td>\n",
              "      <td>20</td>\n",
              "      <td>1</td>\n",
              "      <td>10</td>\n",
              "    </tr>\n",
              "    <tr>\n",
              "      <th>1</th>\n",
              "      <td>Air India</td>\n",
              "      <td>Kolkata</td>\n",
              "      <td>Banglore</td>\n",
              "      <td>7h 25m</td>\n",
              "      <td>2</td>\n",
              "      <td>7662</td>\n",
              "      <td>1</td>\n",
              "      <td>5</td>\n",
              "      <td>5</td>\n",
              "      <td>50</td>\n",
              "      <td>13</td>\n",
              "      <td>15</td>\n",
              "    </tr>\n",
              "    <tr>\n",
              "      <th>2</th>\n",
              "      <td>Jet Airways</td>\n",
              "      <td>Delhi</td>\n",
              "      <td>Cochin</td>\n",
              "      <td>19h</td>\n",
              "      <td>2</td>\n",
              "      <td>13882</td>\n",
              "      <td>9</td>\n",
              "      <td>6</td>\n",
              "      <td>9</td>\n",
              "      <td>25</td>\n",
              "      <td>4</td>\n",
              "      <td>25</td>\n",
              "    </tr>\n",
              "    <tr>\n",
              "      <th>3</th>\n",
              "      <td>IndiGo</td>\n",
              "      <td>Kolkata</td>\n",
              "      <td>Banglore</td>\n",
              "      <td>5h 25m</td>\n",
              "      <td>1</td>\n",
              "      <td>6218</td>\n",
              "      <td>12</td>\n",
              "      <td>5</td>\n",
              "      <td>18</td>\n",
              "      <td>5</td>\n",
              "      <td>23</td>\n",
              "      <td>30</td>\n",
              "    </tr>\n",
              "    <tr>\n",
              "      <th>4</th>\n",
              "      <td>IndiGo</td>\n",
              "      <td>Banglore</td>\n",
              "      <td>New Delhi</td>\n",
              "      <td>4h 45m</td>\n",
              "      <td>1</td>\n",
              "      <td>13302</td>\n",
              "      <td>1</td>\n",
              "      <td>3</td>\n",
              "      <td>16</td>\n",
              "      <td>50</td>\n",
              "      <td>21</td>\n",
              "      <td>35</td>\n",
              "    </tr>\n",
              "  </tbody>\n",
              "</table>\n",
              "</div>"
            ],
            "text/plain": [
              "       Airline    Source Destination  ... Dep_min  Arrival_hour  Arrival_min\n",
              "0       IndiGo  Banglore   New Delhi  ...      20             1           10\n",
              "1    Air India   Kolkata    Banglore  ...      50            13           15\n",
              "2  Jet Airways     Delhi      Cochin  ...      25             4           25\n",
              "3       IndiGo   Kolkata    Banglore  ...       5            23           30\n",
              "4       IndiGo  Banglore   New Delhi  ...      50            21           35\n",
              "\n",
              "[5 rows x 12 columns]"
            ]
          },
          "metadata": {
            "tags": []
          },
          "execution_count": 24
        }
      ]
    },
    {
      "cell_type": "code",
      "metadata": {
        "id": "rYi6yBqucZeX"
      },
      "source": [
        "duration = list(data[\"Duration\"])\r\n",
        "\r\n",
        "for i in range(len(duration)):\r\n",
        "    if len(duration[i].split()) != 2:    # Check if duration contains only hour or mins\r\n",
        "        if \"h\" in duration[i]:\r\n",
        "            duration[i] = duration[i].strip() + \" 0m\"   # Adds 0 minute\r\n",
        "        else:\r\n",
        "            duration[i] = \"0h \" + duration[i]           # Adds 0 hour\r\n",
        "\r\n",
        "duration_hours = []\r\n",
        "duration_mins = []\r\n",
        "for i in range(len(duration)):\r\n",
        "    duration_hours.append(int(duration[i].split(sep = \"h\")[0]))    # Extract hours from duration\r\n",
        "    duration_mins.append(int(duration[i].split(sep = \"m\")[0].split()[-1]))  # Extracts only minute fron the duration"
      ],
      "execution_count": 25,
      "outputs": []
    },
    {
      "cell_type": "code",
      "metadata": {
        "id": "uNzZu84Hc5Vm"
      },
      "source": [
        "data[\"Duration_hours\"] = duration_hours\r\n",
        "data[\"Duration_mins\"] = duration_mins\r\n"
      ],
      "execution_count": 26,
      "outputs": []
    },
    {
      "cell_type": "code",
      "metadata": {
        "id": "VxlwvabjhL1U"
      },
      "source": [
        "data=data.drop('Duration',axis=1)"
      ],
      "execution_count": 27,
      "outputs": []
    },
    {
      "cell_type": "code",
      "metadata": {
        "colab": {
          "base_uri": "https://localhost:8080/",
          "height": 126
        },
        "id": "nk6exK8ViKSg",
        "outputId": "5927fe37-89cc-4ef8-9b22-ab24302b32d8"
      },
      "source": [
        "data.head(2)"
      ],
      "execution_count": 28,
      "outputs": [
        {
          "output_type": "execute_result",
          "data": {
            "text/html": [
              "<div>\n",
              "<style scoped>\n",
              "    .dataframe tbody tr th:only-of-type {\n",
              "        vertical-align: middle;\n",
              "    }\n",
              "\n",
              "    .dataframe tbody tr th {\n",
              "        vertical-align: top;\n",
              "    }\n",
              "\n",
              "    .dataframe thead th {\n",
              "        text-align: right;\n",
              "    }\n",
              "</style>\n",
              "<table border=\"1\" class=\"dataframe\">\n",
              "  <thead>\n",
              "    <tr style=\"text-align: right;\">\n",
              "      <th></th>\n",
              "      <th>Airline</th>\n",
              "      <th>Source</th>\n",
              "      <th>Destination</th>\n",
              "      <th>Total_Stops</th>\n",
              "      <th>Price</th>\n",
              "      <th>Journey_day</th>\n",
              "      <th>journey_month</th>\n",
              "      <th>Dep_hour</th>\n",
              "      <th>Dep_min</th>\n",
              "      <th>Arrival_hour</th>\n",
              "      <th>Arrival_min</th>\n",
              "      <th>Duration_hours</th>\n",
              "      <th>Duration_mins</th>\n",
              "    </tr>\n",
              "  </thead>\n",
              "  <tbody>\n",
              "    <tr>\n",
              "      <th>0</th>\n",
              "      <td>IndiGo</td>\n",
              "      <td>Banglore</td>\n",
              "      <td>New Delhi</td>\n",
              "      <td>0</td>\n",
              "      <td>3897</td>\n",
              "      <td>24</td>\n",
              "      <td>3</td>\n",
              "      <td>22</td>\n",
              "      <td>20</td>\n",
              "      <td>1</td>\n",
              "      <td>10</td>\n",
              "      <td>2</td>\n",
              "      <td>50</td>\n",
              "    </tr>\n",
              "    <tr>\n",
              "      <th>1</th>\n",
              "      <td>Air India</td>\n",
              "      <td>Kolkata</td>\n",
              "      <td>Banglore</td>\n",
              "      <td>2</td>\n",
              "      <td>7662</td>\n",
              "      <td>1</td>\n",
              "      <td>5</td>\n",
              "      <td>5</td>\n",
              "      <td>50</td>\n",
              "      <td>13</td>\n",
              "      <td>15</td>\n",
              "      <td>7</td>\n",
              "      <td>25</td>\n",
              "    </tr>\n",
              "  </tbody>\n",
              "</table>\n",
              "</div>"
            ],
            "text/plain": [
              "     Airline    Source Destination  ...  Arrival_min  Duration_hours  Duration_mins\n",
              "0     IndiGo  Banglore   New Delhi  ...           10               2             50\n",
              "1  Air India   Kolkata    Banglore  ...           15               7             25\n",
              "\n",
              "[2 rows x 13 columns]"
            ]
          },
          "metadata": {
            "tags": []
          },
          "execution_count": 28
        }
      ]
    },
    {
      "cell_type": "code",
      "metadata": {
        "colab": {
          "base_uri": "https://localhost:8080/",
          "height": 391
        },
        "id": "Tf314Y6CsyWc",
        "outputId": "31d36cce-f665-4d78-b135-422edbe23992"
      },
      "source": [
        "# airline vs price\r\n",
        "sns.catplot(x=\"Airline\",y=\"Price\",data=data.sort_values('Price',ascending=False),kind='boxen',height=6,aspect=3)\r\n",
        "plt.show()"
      ],
      "execution_count": 29,
      "outputs": [
        {
          "output_type": "display_data",
          "data": {
            "image/png": "[encoded data removed]",
            "text/plain": [
              "<Figure size 1296x432 with 1 Axes>"
            ]
          },
          "metadata": {
            "tags": [],
            "needs_background": "light"
          }
        }
      ]
    },
    {
      "cell_type": "code",
      "metadata": {
        "colab": {
          "base_uri": "https://localhost:8080/",
          "height": 297
        },
        "id": "JgZBZgS3syOt",
        "outputId": "1c1c2a30-0c28-4fca-e0e4-d7c9d031a2bc"
      },
      "source": [
        "\r\n",
        "sns.boxplot(x='Airline',y='Price',data=data)"
      ],
      "execution_count": 30,
      "outputs": [
        {
          "output_type": "execute_result",
          "data": {
            "text/plain": [
              "<matplotlib.axes._subplots.AxesSubplot at 0x7fd13aeee610>"
            ]
          },
          "metadata": {
            "tags": []
          },
          "execution_count": 30
        },
        {
          "output_type": "display_data",
          "data": {
            "image/png": "[encoded data removed]",
            "text/plain": [
              "<Figure size 432x288 with 1 Axes>"
            ]
          },
          "metadata": {
            "tags": [],
            "needs_background": "light"
          }
        }
      ]
    },
    {
      "cell_type": "code",
      "metadata": {
        "colab": {
          "base_uri": "https://localhost:8080/",
          "height": 409
        },
        "id": "L85oFGPMsyFr",
        "outputId": "fd357839-d267-4e5e-e531-9b4a9e0841ef"
      },
      "source": [
        "# Source vs PRICE\r\n",
        "sns.catplot(y='Price',x='Source',data= data.sort_values('Price',ascending=False),kind=\"boxen\",height=6, aspect=3)\r\n",
        "plt.show"
      ],
      "execution_count": 31,
      "outputs": [
        {
          "output_type": "execute_result",
          "data": {
            "text/plain": [
              "<function matplotlib.pyplot.show>"
            ]
          },
          "metadata": {
            "tags": []
          },
          "execution_count": 31
        },
        {
          "output_type": "display_data",
          "data": {
            "image/png": "[encoded data removed]",
            "text/plain": [
              "<Figure size 1296x432 with 1 Axes>"
            ]
          },
          "metadata": {
            "tags": [],
            "needs_background": "light"
          }
        }
      ]
    },
    {
      "cell_type": "code",
      "metadata": {
        "colab": {
          "base_uri": "https://localhost:8080/",
          "height": 409
        },
        "id": "F1ZNXPbSvblW",
        "outputId": "0140cc33-c7bc-4cbf-f5bf-9adf15c9f8d0"
      },
      "source": [
        "# Desination vs price\r\n",
        "sns.catplot(y='Price',x='Destination',data= data.sort_values('Price',ascending=False),kind=\"boxen\",height=6, aspect=3)\r\n",
        "plt.show"
      ],
      "execution_count": 32,
      "outputs": [
        {
          "output_type": "execute_result",
          "data": {
            "text/plain": [
              "<function matplotlib.pyplot.show>"
            ]
          },
          "metadata": {
            "tags": []
          },
          "execution_count": 32
        },
        {
          "output_type": "display_data",
          "data": {
            "image/png": "[encoded data removed]",
            "text/plain": [
              "<Figure size 1296x432 with 1 Axes>"
            ]
          },
          "metadata": {
            "tags": [],
            "needs_background": "light"
          }
        }
      ]
    },
    {
      "cell_type": "code",
      "metadata": {
        "id": "UZjt4qGjiUEi"
      },
      "source": [
        "encode=LabelEncoder() # label encoding"
      ],
      "execution_count": 33,
      "outputs": []
    },
    {
      "cell_type": "code",
      "metadata": {
        "id": "pTD6qfPOlABG"
      },
      "source": [
        "data.Airline=encode.fit_transform(data.Airline)\r\n",
        "data.Source=encode.fit_transform(data.Source)\r\n",
        "data.Destination=encode.fit_transform(data.Destination)"
      ],
      "execution_count": 34,
      "outputs": []
    },
    {
      "cell_type": "code",
      "metadata": {
        "colab": {
          "base_uri": "https://localhost:8080/",
          "height": 215
        },
        "id": "nVGPxaMvp9jy",
        "outputId": "4a79a9e8-9081-4aa6-8210-f29c69706d99"
      },
      "source": [
        "data.head()"
      ],
      "execution_count": 35,
      "outputs": [
        {
          "output_type": "execute_result",
          "data": {
            "text/html": [
              "<div>\n",
              "<style scoped>\n",
              "    .dataframe tbody tr th:only-of-type {\n",
              "        vertical-align: middle;\n",
              "    }\n",
              "\n",
              "    .dataframe tbody tr th {\n",
              "        vertical-align: top;\n",
              "    }\n",
              "\n",
              "    .dataframe thead th {\n",
              "        text-align: right;\n",
              "    }\n",
              "</style>\n",
              "<table border=\"1\" class=\"dataframe\">\n",
              "  <thead>\n",
              "    <tr style=\"text-align: right;\">\n",
              "      <th></th>\n",
              "      <th>Airline</th>\n",
              "      <th>Source</th>\n",
              "      <th>Destination</th>\n",
              "      <th>Total_Stops</th>\n",
              "      <th>Price</th>\n",
              "      <th>Journey_day</th>\n",
              "      <th>journey_month</th>\n",
              "      <th>Dep_hour</th>\n",
              "      <th>Dep_min</th>\n",
              "      <th>Arrival_hour</th>\n",
              "      <th>Arrival_min</th>\n",
              "      <th>Duration_hours</th>\n",
              "      <th>Duration_mins</th>\n",
              "    </tr>\n",
              "  </thead>\n",
              "  <tbody>\n",
              "    <tr>\n",
              "      <th>0</th>\n",
              "      <td>3</td>\n",
              "      <td>0</td>\n",
              "      <td>5</td>\n",
              "      <td>0</td>\n",
              "      <td>3897</td>\n",
              "      <td>24</td>\n",
              "      <td>3</td>\n",
              "      <td>22</td>\n",
              "      <td>20</td>\n",
              "      <td>1</td>\n",
              "      <td>10</td>\n",
              "      <td>2</td>\n",
              "      <td>50</td>\n",
              "    </tr>\n",
              "    <tr>\n",
              "      <th>1</th>\n",
              "      <td>1</td>\n",
              "      <td>3</td>\n",
              "      <td>0</td>\n",
              "      <td>2</td>\n",
              "      <td>7662</td>\n",
              "      <td>1</td>\n",
              "      <td>5</td>\n",
              "      <td>5</td>\n",
              "      <td>50</td>\n",
              "      <td>13</td>\n",
              "      <td>15</td>\n",
              "      <td>7</td>\n",
              "      <td>25</td>\n",
              "    </tr>\n",
              "    <tr>\n",
              "      <th>2</th>\n",
              "      <td>4</td>\n",
              "      <td>2</td>\n",
              "      <td>1</td>\n",
              "      <td>2</td>\n",
              "      <td>13882</td>\n",
              "      <td>9</td>\n",
              "      <td>6</td>\n",
              "      <td>9</td>\n",
              "      <td>25</td>\n",
              "      <td>4</td>\n",
              "      <td>25</td>\n",
              "      <td>19</td>\n",
              "      <td>0</td>\n",
              "    </tr>\n",
              "    <tr>\n",
              "      <th>3</th>\n",
              "      <td>3</td>\n",
              "      <td>3</td>\n",
              "      <td>0</td>\n",
              "      <td>1</td>\n",
              "      <td>6218</td>\n",
              "      <td>12</td>\n",
              "      <td>5</td>\n",
              "      <td>18</td>\n",
              "      <td>5</td>\n",
              "      <td>23</td>\n",
              "      <td>30</td>\n",
              "      <td>5</td>\n",
              "      <td>25</td>\n",
              "    </tr>\n",
              "    <tr>\n",
              "      <th>4</th>\n",
              "      <td>3</td>\n",
              "      <td>0</td>\n",
              "      <td>5</td>\n",
              "      <td>1</td>\n",
              "      <td>13302</td>\n",
              "      <td>1</td>\n",
              "      <td>3</td>\n",
              "      <td>16</td>\n",
              "      <td>50</td>\n",
              "      <td>21</td>\n",
              "      <td>35</td>\n",
              "      <td>4</td>\n",
              "      <td>45</td>\n",
              "    </tr>\n",
              "  </tbody>\n",
              "</table>\n",
              "</div>"
            ],
            "text/plain": [
              "   Airline  Source  Destination  ...  Arrival_min  Duration_hours  Duration_mins\n",
              "0        3       0            5  ...           10               2             50\n",
              "1        1       3            0  ...           15               7             25\n",
              "2        4       2            1  ...           25              19              0\n",
              "3        3       3            0  ...           30               5             25\n",
              "4        3       0            5  ...           35               4             45\n",
              "\n",
              "[5 rows x 13 columns]"
            ]
          },
          "metadata": {
            "tags": []
          },
          "execution_count": 35
        }
      ]
    },
    {
      "cell_type": "code",
      "metadata": {
        "colab": {
          "base_uri": "https://localhost:8080/",
          "height": 1000
        },
        "id": "AAB2kDs2xhV2",
        "outputId": "1cf1c100-b476-41b3-c1c6-b5101668a154"
      },
      "source": [
        "# heat map\r\n",
        "plt.figure(figsize=(18,18))\r\n",
        "sns.heatmap(data.corr(),annot=True,cmap='coolwarm')"
      ],
      "execution_count": 36,
      "outputs": [
        {
          "output_type": "execute_result",
          "data": {
            "text/plain": [
              "<matplotlib.axes._subplots.AxesSubplot at 0x7fd13b2c0210>"
            ]
          },
          "metadata": {
            "tags": []
          },
          "execution_count": 36
        },
        {
          "output_type": "display_data",
          "data": {
            "image/png": "[encoded data removed]",
            "text/plain": [
              "<Figure size 1296x1296 with 2 Axes>"
            ]
          },
          "metadata": {
            "tags": [],
            "needs_background": "light"
          }
        }
      ]
    },
    {
      "cell_type": "code",
      "metadata": {
        "id": "HdEOQRBop_rn"
      },
      "source": [
        "# splitting the data\r\n",
        "y=data[['Price']]"
      ],
      "execution_count": 37,
      "outputs": []
    },
    {
      "cell_type": "code",
      "metadata": {
        "colab": {
          "base_uri": "https://localhost:8080/",
          "height": 402
        },
        "id": "7Zj89-EYqKhH",
        "outputId": "a18fe21a-5e7c-4337-dada-4b118afe8655"
      },
      "source": [
        "y"
      ],
      "execution_count": 38,
      "outputs": [
        {
          "output_type": "execute_result",
          "data": {
            "text/html": [
              "<div>\n",
              "<style scoped>\n",
              "    .dataframe tbody tr th:only-of-type {\n",
              "        vertical-align: middle;\n",
              "    }\n",
              "\n",
              "    .dataframe tbody tr th {\n",
              "        vertical-align: top;\n",
              "    }\n",
              "\n",
              "    .dataframe thead th {\n",
              "        text-align: right;\n",
              "    }\n",
              "</style>\n",
              "<table border=\"1\" class=\"dataframe\">\n",
              "  <thead>\n",
              "    <tr style=\"text-align: right;\">\n",
              "      <th></th>\n",
              "      <th>Price</th>\n",
              "    </tr>\n",
              "  </thead>\n",
              "  <tbody>\n",
              "    <tr>\n",
              "      <th>0</th>\n",
              "      <td>3897</td>\n",
              "    </tr>\n",
              "    <tr>\n",
              "      <th>1</th>\n",
              "      <td>7662</td>\n",
              "    </tr>\n",
              "    <tr>\n",
              "      <th>2</th>\n",
              "      <td>13882</td>\n",
              "    </tr>\n",
              "    <tr>\n",
              "      <th>3</th>\n",
              "      <td>6218</td>\n",
              "    </tr>\n",
              "    <tr>\n",
              "      <th>4</th>\n",
              "      <td>13302</td>\n",
              "    </tr>\n",
              "    <tr>\n",
              "      <th>...</th>\n",
              "      <td>...</td>\n",
              "    </tr>\n",
              "    <tr>\n",
              "      <th>10678</th>\n",
              "      <td>4107</td>\n",
              "    </tr>\n",
              "    <tr>\n",
              "      <th>10679</th>\n",
              "      <td>4145</td>\n",
              "    </tr>\n",
              "    <tr>\n",
              "      <th>10680</th>\n",
              "      <td>7229</td>\n",
              "    </tr>\n",
              "    <tr>\n",
              "      <th>10681</th>\n",
              "      <td>12648</td>\n",
              "    </tr>\n",
              "    <tr>\n",
              "      <th>10682</th>\n",
              "      <td>11753</td>\n",
              "    </tr>\n",
              "  </tbody>\n",
              "</table>\n",
              "<p>10682 rows × 1 columns</p>\n",
              "</div>"
            ],
            "text/plain": [
              "       Price\n",
              "0       3897\n",
              "1       7662\n",
              "2      13882\n",
              "3       6218\n",
              "4      13302\n",
              "...      ...\n",
              "10678   4107\n",
              "10679   4145\n",
              "10680   7229\n",
              "10681  12648\n",
              "10682  11753\n",
              "\n",
              "[10682 rows x 1 columns]"
            ]
          },
          "metadata": {
            "tags": []
          },
          "execution_count": 38
        }
      ]
    },
    {
      "cell_type": "code",
      "metadata": {
        "id": "zRNzFFYAqK7J"
      },
      "source": [
        "x=data.drop('Price',axis=1)"
      ],
      "execution_count": 39,
      "outputs": []
    },
    {
      "cell_type": "code",
      "metadata": {
        "colab": {
          "base_uri": "https://localhost:8080/",
          "height": 422
        },
        "id": "_eSUw3k9qRnx",
        "outputId": "07cb4c51-20a2-4ea2-d77c-b74da6f9a7b1"
      },
      "source": [
        "x"
      ],
      "execution_count": 40,
      "outputs": [
        {
          "output_type": "execute_result",
          "data": {
            "text/html": [
              "<div>\n",
              "<style scoped>\n",
              "    .dataframe tbody tr th:only-of-type {\n",
              "        vertical-align: middle;\n",
              "    }\n",
              "\n",
              "    .dataframe tbody tr th {\n",
              "        vertical-align: top;\n",
              "    }\n",
              "\n",
              "    .dataframe thead th {\n",
              "        text-align: right;\n",
              "    }\n",
              "</style>\n",
              "<table border=\"1\" class=\"dataframe\">\n",
              "  <thead>\n",
              "    <tr style=\"text-align: right;\">\n",
              "      <th></th>\n",
              "      <th>Airline</th>\n",
              "      <th>Source</th>\n",
              "      <th>Destination</th>\n",
              "      <th>Total_Stops</th>\n",
              "      <th>Journey_day</th>\n",
              "      <th>journey_month</th>\n",
              "      <th>Dep_hour</th>\n",
              "      <th>Dep_min</th>\n",
              "      <th>Arrival_hour</th>\n",
              "      <th>Arrival_min</th>\n",
              "      <th>Duration_hours</th>\n",
              "      <th>Duration_mins</th>\n",
              "    </tr>\n",
              "  </thead>\n",
              "  <tbody>\n",
              "    <tr>\n",
              "      <th>0</th>\n",
              "      <td>3</td>\n",
              "      <td>0</td>\n",
              "      <td>5</td>\n",
              "      <td>0</td>\n",
              "      <td>24</td>\n",
              "      <td>3</td>\n",
              "      <td>22</td>\n",
              "      <td>20</td>\n",
              "      <td>1</td>\n",
              "      <td>10</td>\n",
              "      <td>2</td>\n",
              "      <td>50</td>\n",
              "    </tr>\n",
              "    <tr>\n",
              "      <th>1</th>\n",
              "      <td>1</td>\n",
              "      <td>3</td>\n",
              "      <td>0</td>\n",
              "      <td>2</td>\n",
              "      <td>1</td>\n",
              "      <td>5</td>\n",
              "      <td>5</td>\n",
              "      <td>50</td>\n",
              "      <td>13</td>\n",
              "      <td>15</td>\n",
              "      <td>7</td>\n",
              "      <td>25</td>\n",
              "    </tr>\n",
              "    <tr>\n",
              "      <th>2</th>\n",
              "      <td>4</td>\n",
              "      <td>2</td>\n",
              "      <td>1</td>\n",
              "      <td>2</td>\n",
              "      <td>9</td>\n",
              "      <td>6</td>\n",
              "      <td>9</td>\n",
              "      <td>25</td>\n",
              "      <td>4</td>\n",
              "      <td>25</td>\n",
              "      <td>19</td>\n",
              "      <td>0</td>\n",
              "    </tr>\n",
              "    <tr>\n",
              "      <th>3</th>\n",
              "      <td>3</td>\n",
              "      <td>3</td>\n",
              "      <td>0</td>\n",
              "      <td>1</td>\n",
              "      <td>12</td>\n",
              "      <td>5</td>\n",
              "      <td>18</td>\n",
              "      <td>5</td>\n",
              "      <td>23</td>\n",
              "      <td>30</td>\n",
              "      <td>5</td>\n",
              "      <td>25</td>\n",
              "    </tr>\n",
              "    <tr>\n",
              "      <th>4</th>\n",
              "      <td>3</td>\n",
              "      <td>0</td>\n",
              "      <td>5</td>\n",
              "      <td>1</td>\n",
              "      <td>1</td>\n",
              "      <td>3</td>\n",
              "      <td>16</td>\n",
              "      <td>50</td>\n",
              "      <td>21</td>\n",
              "      <td>35</td>\n",
              "      <td>4</td>\n",
              "      <td>45</td>\n",
              "    </tr>\n",
              "    <tr>\n",
              "      <th>...</th>\n",
              "      <td>...</td>\n",
              "      <td>...</td>\n",
              "      <td>...</td>\n",
              "      <td>...</td>\n",
              "      <td>...</td>\n",
              "      <td>...</td>\n",
              "      <td>...</td>\n",
              "      <td>...</td>\n",
              "      <td>...</td>\n",
              "      <td>...</td>\n",
              "      <td>...</td>\n",
              "      <td>...</td>\n",
              "    </tr>\n",
              "    <tr>\n",
              "      <th>10678</th>\n",
              "      <td>0</td>\n",
              "      <td>3</td>\n",
              "      <td>0</td>\n",
              "      <td>0</td>\n",
              "      <td>9</td>\n",
              "      <td>4</td>\n",
              "      <td>19</td>\n",
              "      <td>55</td>\n",
              "      <td>22</td>\n",
              "      <td>25</td>\n",
              "      <td>2</td>\n",
              "      <td>30</td>\n",
              "    </tr>\n",
              "    <tr>\n",
              "      <th>10679</th>\n",
              "      <td>1</td>\n",
              "      <td>3</td>\n",
              "      <td>0</td>\n",
              "      <td>0</td>\n",
              "      <td>27</td>\n",
              "      <td>4</td>\n",
              "      <td>20</td>\n",
              "      <td>45</td>\n",
              "      <td>23</td>\n",
              "      <td>20</td>\n",
              "      <td>2</td>\n",
              "      <td>35</td>\n",
              "    </tr>\n",
              "    <tr>\n",
              "      <th>10680</th>\n",
              "      <td>4</td>\n",
              "      <td>0</td>\n",
              "      <td>2</td>\n",
              "      <td>0</td>\n",
              "      <td>27</td>\n",
              "      <td>4</td>\n",
              "      <td>8</td>\n",
              "      <td>20</td>\n",
              "      <td>11</td>\n",
              "      <td>20</td>\n",
              "      <td>3</td>\n",
              "      <td>0</td>\n",
              "    </tr>\n",
              "    <tr>\n",
              "      <th>10681</th>\n",
              "      <td>10</td>\n",
              "      <td>0</td>\n",
              "      <td>5</td>\n",
              "      <td>0</td>\n",
              "      <td>1</td>\n",
              "      <td>3</td>\n",
              "      <td>11</td>\n",
              "      <td>30</td>\n",
              "      <td>14</td>\n",
              "      <td>10</td>\n",
              "      <td>2</td>\n",
              "      <td>40</td>\n",
              "    </tr>\n",
              "    <tr>\n",
              "      <th>10682</th>\n",
              "      <td>1</td>\n",
              "      <td>2</td>\n",
              "      <td>1</td>\n",
              "      <td>2</td>\n",
              "      <td>9</td>\n",
              "      <td>5</td>\n",
              "      <td>10</td>\n",
              "      <td>55</td>\n",
              "      <td>19</td>\n",
              "      <td>15</td>\n",
              "      <td>8</td>\n",
              "      <td>20</td>\n",
              "    </tr>\n",
              "  </tbody>\n",
              "</table>\n",
              "<p>10682 rows × 12 columns</p>\n",
              "</div>"
            ],
            "text/plain": [
              "       Airline  Source  Destination  ...  Arrival_min  Duration_hours  Duration_mins\n",
              "0            3       0            5  ...           10               2             50\n",
              "1            1       3            0  ...           15               7             25\n",
              "2            4       2            1  ...           25              19              0\n",
              "3            3       3            0  ...           30               5             25\n",
              "4            3       0            5  ...           35               4             45\n",
              "...        ...     ...          ...  ...          ...             ...            ...\n",
              "10678        0       3            0  ...           25               2             30\n",
              "10679        1       3            0  ...           20               2             35\n",
              "10680        4       0            2  ...           20               3              0\n",
              "10681       10       0            5  ...           10               2             40\n",
              "10682        1       2            1  ...           15               8             20\n",
              "\n",
              "[10682 rows x 12 columns]"
            ]
          },
          "metadata": {
            "tags": []
          },
          "execution_count": 40
        }
      ]
    },
    {
      "cell_type": "code",
      "metadata": {
        "id": "55kW1fWIqSGW"
      },
      "source": [
        "x_train,x_test,y_train,y_test=train_test_split(x,y,test_size=0.20,random_state=42)"
      ],
      "execution_count": 41,
      "outputs": []
    },
    {
      "cell_type": "code",
      "metadata": {
        "colab": {
          "base_uri": "https://localhost:8080/"
        },
        "id": "LQO7vbNZqlU5",
        "outputId": "bdc8ff4e-5c6b-47c9-eae6-7b19f5707b90"
      },
      "source": [
        "x_train.shape,y_train.shape,x_test.shape,y_test.shape"
      ],
      "execution_count": 42,
      "outputs": [
        {
          "output_type": "execute_result",
          "data": {
            "text/plain": [
              "((8545, 12), (8545, 1), (2137, 12), (2137, 1))"
            ]
          },
          "metadata": {
            "tags": []
          },
          "execution_count": 42
        }
      ]
    },
    {
      "cell_type": "code",
      "metadata": {
        "id": "K_sWQy9kqqEK"
      },
      "source": [
        "\r\n",
        "# linear regression\r\n",
        "lr_model=LinearRegression()"
      ],
      "execution_count": 43,
      "outputs": []
    },
    {
      "cell_type": "code",
      "metadata": {
        "colab": {
          "base_uri": "https://localhost:8080/"
        },
        "id": "BpBGINRxq2ZR",
        "outputId": "4427e359-df25-419d-c78c-f38e57b093b3"
      },
      "source": [
        "lr_model.fit(x_train,y_train)"
      ],
      "execution_count": 44,
      "outputs": [
        {
          "output_type": "execute_result",
          "data": {
            "text/plain": [
              "LinearRegression(copy_X=True, fit_intercept=True, n_jobs=None, normalize=False)"
            ]
          },
          "metadata": {
            "tags": []
          },
          "execution_count": 44
        }
      ]
    },
    {
      "cell_type": "code",
      "metadata": {
        "id": "5-jrisLtq6gC"
      },
      "source": [
        "y_pred=lr_model.predict(x_test)"
      ],
      "execution_count": 45,
      "outputs": []
    },
    {
      "cell_type": "code",
      "metadata": {
        "colab": {
          "base_uri": "https://localhost:8080/"
        },
        "id": "3uWnfHnFq_x3",
        "outputId": "4d2c3b2b-4cec-4cab-bc21-42a02af30fc6"
      },
      "source": [
        "y_pred"
      ],
      "execution_count": 46,
      "outputs": [
        {
          "output_type": "execute_result",
          "data": {
            "text/plain": [
              "array([[13441.86043773],\n",
              "       [ 9511.02160203],\n",
              "       [11020.3082033 ],\n",
              "       ...,\n",
              "       [ 8458.30427291],\n",
              "       [ 9026.58090005],\n",
              "       [ 9118.36808645]])"
            ]
          },
          "metadata": {
            "tags": []
          },
          "execution_count": 46
        }
      ]
    },
    {
      "cell_type": "code",
      "metadata": {
        "colab": {
          "base_uri": "https://localhost:8080/",
          "height": 402
        },
        "id": "VSHX3oSyrBRC",
        "outputId": "58f4a776-bd00-452b-b0da-ef142def6f4b"
      },
      "source": [
        "y_test"
      ],
      "execution_count": 47,
      "outputs": [
        {
          "output_type": "execute_result",
          "data": {
            "text/html": [
              "<div>\n",
              "<style scoped>\n",
              "    .dataframe tbody tr th:only-of-type {\n",
              "        vertical-align: middle;\n",
              "    }\n",
              "\n",
              "    .dataframe tbody tr th {\n",
              "        vertical-align: top;\n",
              "    }\n",
              "\n",
              "    .dataframe thead th {\n",
              "        text-align: right;\n",
              "    }\n",
              "</style>\n",
              "<table border=\"1\" class=\"dataframe\">\n",
              "  <thead>\n",
              "    <tr style=\"text-align: right;\">\n",
              "      <th></th>\n",
              "      <th>Price</th>\n",
              "    </tr>\n",
              "  </thead>\n",
              "  <tbody>\n",
              "    <tr>\n",
              "      <th>6075</th>\n",
              "      <td>16655</td>\n",
              "    </tr>\n",
              "    <tr>\n",
              "      <th>3544</th>\n",
              "      <td>4959</td>\n",
              "    </tr>\n",
              "    <tr>\n",
              "      <th>9291</th>\n",
              "      <td>9187</td>\n",
              "    </tr>\n",
              "    <tr>\n",
              "      <th>5032</th>\n",
              "      <td>3858</td>\n",
              "    </tr>\n",
              "    <tr>\n",
              "      <th>2483</th>\n",
              "      <td>12898</td>\n",
              "    </tr>\n",
              "    <tr>\n",
              "      <th>...</th>\n",
              "      <td>...</td>\n",
              "    </tr>\n",
              "    <tr>\n",
              "      <th>9797</th>\n",
              "      <td>7408</td>\n",
              "    </tr>\n",
              "    <tr>\n",
              "      <th>9871</th>\n",
              "      <td>4622</td>\n",
              "    </tr>\n",
              "    <tr>\n",
              "      <th>10063</th>\n",
              "      <td>7452</td>\n",
              "    </tr>\n",
              "    <tr>\n",
              "      <th>8802</th>\n",
              "      <td>8824</td>\n",
              "    </tr>\n",
              "    <tr>\n",
              "      <th>8617</th>\n",
              "      <td>14151</td>\n",
              "    </tr>\n",
              "  </tbody>\n",
              "</table>\n",
              "<p>2137 rows × 1 columns</p>\n",
              "</div>"
            ],
            "text/plain": [
              "       Price\n",
              "6075   16655\n",
              "3544    4959\n",
              "9291    9187\n",
              "5032    3858\n",
              "2483   12898\n",
              "...      ...\n",
              "9797    7408\n",
              "9871    4622\n",
              "10063   7452\n",
              "8802    8824\n",
              "8617   14151\n",
              "\n",
              "[2137 rows x 1 columns]"
            ]
          },
          "metadata": {
            "tags": []
          },
          "execution_count": 47
        }
      ]
    },
    {
      "cell_type": "code",
      "metadata": {
        "colab": {
          "base_uri": "https://localhost:8080/"
        },
        "id": "U2-6oW47rU9M",
        "outputId": "6d71d32f-c32e-4a73-8f89-0a51ff9a8199"
      },
      "source": [
        "lr_model.score(x_train,y_train)"
      ],
      "execution_count": 48,
      "outputs": [
        {
          "output_type": "execute_result",
          "data": {
            "text/plain": [
              "0.4359733167832309"
            ]
          },
          "metadata": {
            "tags": []
          },
          "execution_count": 48
        }
      ]
    },
    {
      "cell_type": "code",
      "metadata": {
        "colab": {
          "base_uri": "https://localhost:8080/"
        },
        "id": "aw_MVN-_wQwz",
        "outputId": "13e6754d-1284-4bb3-b7fe-68fc6392eba0"
      },
      "source": [
        "lr_model.score(x_test,y_test)"
      ],
      "execution_count": 49,
      "outputs": [
        {
          "output_type": "execute_result",
          "data": {
            "text/plain": [
              "0.4381543229086622"
            ]
          },
          "metadata": {
            "tags": []
          },
          "execution_count": 49
        }
      ]
    },
    {
      "cell_type": "code",
      "metadata": {
        "id": "NZKEghr-xVji"
      },
      "source": [
        "from sklearn.ensemble import RandomForestRegressor"
      ],
      "execution_count": 50,
      "outputs": []
    },
    {
      "cell_type": "code",
      "metadata": {
        "id": "6iqSQvryzjuf"
      },
      "source": [
        "rfr=RandomForestRegressor()"
      ],
      "execution_count": 51,
      "outputs": []
    },
    {
      "cell_type": "code",
      "metadata": {
        "colab": {
          "base_uri": "https://localhost:8080/"
        },
        "id": "FHwmMCdAzoEM",
        "outputId": "3a5f6ae2-8b1e-44b6-f01d-6e93648c8e12"
      },
      "source": [
        "rfr.fit(x_train,y_train)"
      ],
      "execution_count": 52,
      "outputs": [
        {
          "output_type": "execute_result",
          "data": {
            "text/plain": [
              "RandomForestRegressor(bootstrap=True, ccp_alpha=0.0, criterion='mse',\n",
              "                      max_depth=None, max_features='auto', max_leaf_nodes=None,\n",
              "                      max_samples=None, min_impurity_decrease=0.0,\n",
              "                      min_impurity_split=None, min_samples_leaf=1,\n",
              "                      min_samples_split=2, min_weight_fraction_leaf=0.0,\n",
              "                      n_estimators=100, n_jobs=None, oob_score=False,\n",
              "                      random_state=None, verbose=0, warm_start=False)"
            ]
          },
          "metadata": {
            "tags": []
          },
          "execution_count": 52
        }
      ]
    },
    {
      "cell_type": "code",
      "metadata": {
        "id": "pRqT7d6gzr3s"
      },
      "source": [
        "rfr_pred=rfr.predict(x_test)"
      ],
      "execution_count": 53,
      "outputs": []
    },
    {
      "cell_type": "code",
      "metadata": {
        "colab": {
          "base_uri": "https://localhost:8080/"
        },
        "id": "CzJiyLbPz2Fl",
        "outputId": "cd54600e-3609-4b6f-bc50-0ffb9761c39a"
      },
      "source": [
        "rfr.score(x_test,y_test)"
      ],
      "execution_count": 54,
      "outputs": [
        {
          "output_type": "execute_result",
          "data": {
            "text/plain": [
              "0.7861391842349168"
            ]
          },
          "metadata": {
            "tags": []
          },
          "execution_count": 54
        }
      ]
    },
    {
      "cell_type": "code",
      "metadata": {
        "colab": {
          "base_uri": "https://localhost:8080/"
        },
        "id": "izsVNi9kz_j0",
        "outputId": "a864a04b-0780-45ac-9e07-e120515cc523"
      },
      "source": [
        "rfr.score(x_train,y_train)"
      ],
      "execution_count": 55,
      "outputs": [
        {
          "output_type": "execute_result",
          "data": {
            "text/plain": [
              "0.9541321545064348"
            ]
          },
          "metadata": {
            "tags": []
          },
          "execution_count": 55
        }
      ]
    },
    {
      "cell_type": "code",
      "metadata": {
        "id": "9x2F4JjU09YT"
      },
      "source": [
        "from sklearn.metrics import mean_absolute_error,mean_squared_error,r2_score"
      ],
      "execution_count": 56,
      "outputs": []
    },
    {
      "cell_type": "code",
      "metadata": {
        "colab": {
          "base_uri": "https://localhost:8080/"
        },
        "id": "S7eIk_uM09WD",
        "outputId": "a0e537b4-6e59-4f23-ea7e-a58034298120"
      },
      "source": [
        "mean_absolute_error(y_test,rfr_pred)"
      ],
      "execution_count": 57,
      "outputs": [
        {
          "output_type": "execute_result",
          "data": {
            "text/plain": [
              "1198.6645303532453"
            ]
          },
          "metadata": {
            "tags": []
          },
          "execution_count": 57
        }
      ]
    },
    {
      "cell_type": "code",
      "metadata": {
        "colab": {
          "base_uri": "https://localhost:8080/"
        },
        "id": "tcwMWGuT09Lg",
        "outputId": "8ca7819a-b36f-4699-f0bc-3b1e8fe29b32"
      },
      "source": [
        "mean_squared_error(y_test,rfr_pred)"
      ],
      "execution_count": 58,
      "outputs": [
        {
          "output_type": "execute_result",
          "data": {
            "text/plain": [
              "4611278.95505791"
            ]
          },
          "metadata": {
            "tags": []
          },
          "execution_count": 58
        }
      ]
    },
    {
      "cell_type": "code",
      "metadata": {
        "id": "jtT2OY0x1gq_"
      },
      "source": [
        "RMSE=np.sqrt(mean_squared_error(y_test,rfr_pred))"
      ],
      "execution_count": 59,
      "outputs": []
    },
    {
      "cell_type": "code",
      "metadata": {
        "colab": {
          "base_uri": "https://localhost:8080/"
        },
        "id": "kqPK4Ar_1qd0",
        "outputId": "34487a16-be0d-4cea-f375-86d4fc0c6bc4"
      },
      "source": [
        "RMSE"
      ],
      "execution_count": 60,
      "outputs": [
        {
          "output_type": "execute_result",
          "data": {
            "text/plain": [
              "2147.3888690821486"
            ]
          },
          "metadata": {
            "tags": []
          },
          "execution_count": 60
        }
      ]
    },
    {
      "cell_type": "markdown",
      "metadata": {
        "id": "IiDCHNkB15fE"
      },
      "source": [
        "#Hyperprameter tuning"
      ]
    },
    {
      "cell_type": "markdown",
      "metadata": {
        "id": "gKN1eYtF2Ifq"
      },
      "source": [
        "There are two types of hyperparameter tuning\r\n",
        "\r\n",
        "1.RandomizedSearchCV    \r\n",
        "2.GridSearchCV"
      ]
    },
    {
      "cell_type": "code",
      "metadata": {
        "id": "SsRxxIuI0vh7"
      },
      "source": [
        "from sklearn.model_selection import RandomizedSearchCV"
      ],
      "execution_count": 61,
      "outputs": []
    },
    {
      "cell_type": "code",
      "metadata": {
        "id": "_m3CdEtp03yY"
      },
      "source": [
        "random_grid={'n_estimators':[100,200,300,400,500,600,700,800],'max_features':['auto','sqrt']}"
      ],
      "execution_count": 62,
      "outputs": []
    },
    {
      "cell_type": "code",
      "metadata": {
        "id": "a9wBEyQN6kNB"
      },
      "source": [
        "random=RandomizedSearchCV(estimator=rfr,param_distributions=random_grid,scoring='neg_mean_squared_error',cv=10,verbose=3,n_jobs=1)"
      ],
      "execution_count": 63,
      "outputs": []
    },
    {
      "cell_type": "code",
      "metadata": {
        "colab": {
          "base_uri": "https://localhost:8080/"
        },
        "id": "MQ3H3rjK7NXX",
        "outputId": "39d47323-344e-4e70-af66-d483b01f7819"
      },
      "source": [
        "random.fit(x_train,y_train)"
      ],
      "execution_count": 64,
      "outputs": [
        {
          "output_type": "stream",
          "text": [
            "Fitting 10 folds for each of 10 candidates, totalling 100 fits\n",
            "[CV] n_estimators=100, max_features=sqrt .............................\n"
          ],
          "name": "stdout"
        },
        {
          "output_type": "stream",
          "text": [
            "[Parallel(n_jobs=1)]: Using backend SequentialBackend with 1 concurrent workers.\n"
          ],
          "name": "stderr"
        },
        {
          "output_type": "stream",
          "text": [
            "[CV]  n_estimators=100, max_features=sqrt, score=-3078851.752, total=   1.1s\n",
            "[CV] n_estimators=100, max_features=sqrt .............................\n"
          ],
          "name": "stdout"
        },
        {
          "output_type": "stream",
          "text": [
            "[Parallel(n_jobs=1)]: Done   1 out of   1 | elapsed:    1.1s remaining:    0.0s\n"
          ],
          "name": "stderr"
        },
        {
          "output_type": "stream",
          "text": [
            "[CV]  n_estimators=100, max_features=sqrt, score=-3612467.533, total=   1.1s\n",
            "[CV] n_estimators=100, max_features=sqrt .............................\n"
          ],
          "name": "stdout"
        },
        {
          "output_type": "stream",
          "text": [
            "[Parallel(n_jobs=1)]: Done   2 out of   2 | elapsed:    2.2s remaining:    0.0s\n"
          ],
          "name": "stderr"
        },
        {
          "output_type": "stream",
          "text": [
            "[CV]  n_estimators=100, max_features=sqrt, score=-3320032.825, total=   1.1s\n",
            "[CV] n_estimators=100, max_features=sqrt .............................\n",
            "[CV]  n_estimators=100, max_features=sqrt, score=-4003091.124, total=   1.1s\n",
            "[CV] n_estimators=100, max_features=sqrt .............................\n",
            "[CV]  n_estimators=100, max_features=sqrt, score=-5151024.919, total=   1.0s\n",
            "[CV] n_estimators=100, max_features=sqrt .............................\n",
            "[CV]  n_estimators=100, max_features=sqrt, score=-4721195.665, total=   1.0s\n",
            "[CV] n_estimators=100, max_features=sqrt .............................\n",
            "[CV]  n_estimators=100, max_features=sqrt, score=-7289795.039, total=   1.1s\n",
            "[CV] n_estimators=100, max_features=sqrt .............................\n",
            "[CV]  n_estimators=100, max_features=sqrt, score=-4761736.761, total=   1.0s\n",
            "[CV] n_estimators=100, max_features=sqrt .............................\n",
            "[CV]  n_estimators=100, max_features=sqrt, score=-3889694.189, total=   1.1s\n",
            "[CV] n_estimators=100, max_features=sqrt .............................\n",
            "[CV]  n_estimators=100, max_features=sqrt, score=-3614217.821, total=   1.1s\n",
            "[CV] n_estimators=700, max_features=sqrt .............................\n",
            "[CV]  n_estimators=700, max_features=sqrt, score=-2996588.174, total=   7.4s\n",
            "[CV] n_estimators=700, max_features=sqrt .............................\n",
            "[CV]  n_estimators=700, max_features=sqrt, score=-3524483.504, total=   7.1s\n",
            "[CV] n_estimators=700, max_features=sqrt .............................\n",
            "[CV]  n_estimators=700, max_features=sqrt, score=-3226357.909, total=   7.3s\n",
            "[CV] n_estimators=700, max_features=sqrt .............................\n",
            "[CV]  n_estimators=700, max_features=sqrt, score=-4229952.051, total=   7.2s\n",
            "[CV] n_estimators=700, max_features=sqrt .............................\n",
            "[CV]  n_estimators=700, max_features=sqrt, score=-5159143.272, total=   7.2s\n",
            "[CV] n_estimators=700, max_features=sqrt .............................\n",
            "[CV]  n_estimators=700, max_features=sqrt, score=-4965925.868, total=   7.2s\n",
            "[CV] n_estimators=700, max_features=sqrt .............................\n",
            "[CV]  n_estimators=700, max_features=sqrt, score=-7246704.521, total=   7.4s\n",
            "[CV] n_estimators=700, max_features=sqrt .............................\n",
            "[CV]  n_estimators=700, max_features=sqrt, score=-4717031.354, total=   7.2s\n",
            "[CV] n_estimators=700, max_features=sqrt .............................\n",
            "[CV]  n_estimators=700, max_features=sqrt, score=-3839956.558, total=   7.2s\n",
            "[CV] n_estimators=700, max_features=sqrt .............................\n",
            "[CV]  n_estimators=700, max_features=sqrt, score=-3491067.641, total=   7.2s\n",
            "[CV] n_estimators=200, max_features=auto .............................\n",
            "[CV]  n_estimators=200, max_features=auto, score=-3051801.569, total=   4.8s\n",
            "[CV] n_estimators=200, max_features=auto .............................\n",
            "[CV]  n_estimators=200, max_features=auto, score=-3585878.083, total=   4.9s\n",
            "[CV] n_estimators=200, max_features=auto .............................\n",
            "[CV]  n_estimators=200, max_features=auto, score=-3033747.954, total=   5.0s\n",
            "[CV] n_estimators=200, max_features=auto .............................\n",
            "[CV]  n_estimators=200, max_features=auto, score=-4086624.214, total=   4.9s\n",
            "[CV] n_estimators=200, max_features=auto .............................\n",
            "[CV]  n_estimators=200, max_features=auto, score=-4694190.490, total=   4.9s\n",
            "[CV] n_estimators=200, max_features=auto .............................\n",
            "[CV]  n_estimators=200, max_features=auto, score=-4120811.259, total=   4.9s\n",
            "[CV] n_estimators=200, max_features=auto .............................\n",
            "[CV]  n_estimators=200, max_features=auto, score=-6238414.357, total=   4.9s\n",
            "[CV] n_estimators=200, max_features=auto .............................\n",
            "[CV]  n_estimators=200, max_features=auto, score=-4204347.487, total=   4.9s\n",
            "[CV] n_estimators=200, max_features=auto .............................\n",
            "[CV]  n_estimators=200, max_features=auto, score=-3806286.405, total=   4.8s\n",
            "[CV] n_estimators=200, max_features=auto .............................\n",
            "[CV]  n_estimators=200, max_features=auto, score=-3703752.123, total=   4.9s\n",
            "[CV] n_estimators=400, max_features=sqrt .............................\n",
            "[CV]  n_estimators=400, max_features=sqrt, score=-3036562.475, total=   4.1s\n",
            "[CV] n_estimators=400, max_features=sqrt .............................\n",
            "[CV]  n_estimators=400, max_features=sqrt, score=-3552713.488, total=   4.1s\n",
            "[CV] n_estimators=400, max_features=sqrt .............................\n",
            "[CV]  n_estimators=400, max_features=sqrt, score=-3205428.887, total=   4.1s\n",
            "[CV] n_estimators=400, max_features=sqrt .............................\n",
            "[CV]  n_estimators=400, max_features=sqrt, score=-4142595.699, total=   4.2s\n",
            "[CV] n_estimators=400, max_features=sqrt .............................\n",
            "[CV]  n_estimators=400, max_features=sqrt, score=-5185992.717, total=   4.1s\n",
            "[CV] n_estimators=400, max_features=sqrt .............................\n",
            "[CV]  n_estimators=400, max_features=sqrt, score=-4857375.573, total=   4.2s\n",
            "[CV] n_estimators=400, max_features=sqrt .............................\n",
            "[CV]  n_estimators=400, max_features=sqrt, score=-7151260.073, total=   4.2s\n",
            "[CV] n_estimators=400, max_features=sqrt .............................\n",
            "[CV]  n_estimators=400, max_features=sqrt, score=-4752444.661, total=   4.2s\n",
            "[CV] n_estimators=400, max_features=sqrt .............................\n",
            "[CV]  n_estimators=400, max_features=sqrt, score=-3853116.369, total=   4.2s\n",
            "[CV] n_estimators=400, max_features=sqrt .............................\n",
            "[CV]  n_estimators=400, max_features=sqrt, score=-3528496.747, total=   4.1s\n",
            "[CV] n_estimators=700, max_features=auto .............................\n",
            "[CV]  n_estimators=700, max_features=auto, score=-3020329.559, total=  17.0s\n",
            "[CV] n_estimators=700, max_features=auto .............................\n",
            "[CV]  n_estimators=700, max_features=auto, score=-3482257.847, total=  17.2s\n",
            "[CV] n_estimators=700, max_features=auto .............................\n",
            "[CV]  n_estimators=700, max_features=auto, score=-3053450.894, total=  17.1s\n",
            "[CV] n_estimators=700, max_features=auto .............................\n",
            "[CV]  n_estimators=700, max_features=auto, score=-4036642.044, total=  17.2s\n",
            "[CV] n_estimators=700, max_features=auto .............................\n",
            "[CV]  n_estimators=700, max_features=auto, score=-4724298.123, total=  17.1s\n",
            "[CV] n_estimators=700, max_features=auto .............................\n",
            "[CV]  n_estimators=700, max_features=auto, score=-4188527.660, total=  16.9s\n",
            "[CV] n_estimators=700, max_features=auto .............................\n",
            "[CV]  n_estimators=700, max_features=auto, score=-6271117.441, total=  17.1s\n",
            "[CV] n_estimators=700, max_features=auto .............................\n",
            "[CV]  n_estimators=700, max_features=auto, score=-4231413.279, total=  17.4s\n",
            "[CV] n_estimators=700, max_features=auto .............................\n",
            "[CV]  n_estimators=700, max_features=auto, score=-3778804.309, total=  17.2s\n",
            "[CV] n_estimators=700, max_features=auto .............................\n",
            "[CV]  n_estimators=700, max_features=auto, score=-3564271.989, total=  17.1s\n",
            "[CV] n_estimators=200, max_features=sqrt .............................\n",
            "[CV]  n_estimators=200, max_features=sqrt, score=-3023382.094, total=   2.1s\n",
            "[CV] n_estimators=200, max_features=sqrt .............................\n",
            "[CV]  n_estimators=200, max_features=sqrt, score=-3530586.844, total=   2.0s\n",
            "[CV] n_estimators=200, max_features=sqrt .............................\n",
            "[CV]  n_estimators=200, max_features=sqrt, score=-3279775.438, total=   2.1s\n",
            "[CV] n_estimators=200, max_features=sqrt .............................\n",
            "[CV]  n_estimators=200, max_features=sqrt, score=-4320702.314, total=   2.1s\n",
            "[CV] n_estimators=200, max_features=sqrt .............................\n",
            "[CV]  n_estimators=200, max_features=sqrt, score=-5235784.013, total=   2.1s\n",
            "[CV] n_estimators=200, max_features=sqrt .............................\n",
            "[CV]  n_estimators=200, max_features=sqrt, score=-4927986.275, total=   2.1s\n",
            "[CV] n_estimators=200, max_features=sqrt .............................\n",
            "[CV]  n_estimators=200, max_features=sqrt, score=-7286669.130, total=   2.1s\n",
            "[CV] n_estimators=200, max_features=sqrt .............................\n",
            "[CV]  n_estimators=200, max_features=sqrt, score=-4771091.047, total=   2.1s\n",
            "[CV] n_estimators=200, max_features=sqrt .............................\n",
            "[CV]  n_estimators=200, max_features=sqrt, score=-3857720.702, total=   2.1s\n",
            "[CV] n_estimators=200, max_features=sqrt .............................\n",
            "[CV]  n_estimators=200, max_features=sqrt, score=-3554781.515, total=   2.1s\n",
            "[CV] n_estimators=800, max_features=sqrt .............................\n",
            "[CV]  n_estimators=800, max_features=sqrt, score=-2996397.020, total=   8.1s\n",
            "[CV] n_estimators=800, max_features=sqrt .............................\n",
            "[CV]  n_estimators=800, max_features=sqrt, score=-3554153.720, total=   8.1s\n",
            "[CV] n_estimators=800, max_features=sqrt .............................\n",
            "[CV]  n_estimators=800, max_features=sqrt, score=-3223718.319, total=   8.4s\n",
            "[CV] n_estimators=800, max_features=sqrt .............................\n",
            "[CV]  n_estimators=800, max_features=sqrt, score=-4200153.547, total=   8.4s\n",
            "[CV] n_estimators=800, max_features=sqrt .............................\n",
            "[CV]  n_estimators=800, max_features=sqrt, score=-5134301.231, total=   8.2s\n",
            "[CV] n_estimators=800, max_features=sqrt .............................\n",
            "[CV]  n_estimators=800, max_features=sqrt, score=-4971241.687, total=   8.3s\n",
            "[CV] n_estimators=800, max_features=sqrt .............................\n",
            "[CV]  n_estimators=800, max_features=sqrt, score=-7256504.885, total=   8.3s\n",
            "[CV] n_estimators=800, max_features=sqrt .............................\n",
            "[CV]  n_estimators=800, max_features=sqrt, score=-4664786.433, total=   8.3s\n",
            "[CV] n_estimators=800, max_features=sqrt .............................\n",
            "[CV]  n_estimators=800, max_features=sqrt, score=-3848437.261, total=   8.3s\n",
            "[CV] n_estimators=800, max_features=sqrt .............................\n",
            "[CV]  n_estimators=800, max_features=sqrt, score=-3487973.626, total=   8.2s\n",
            "[CV] n_estimators=300, max_features=sqrt .............................\n",
            "[CV]  n_estimators=300, max_features=sqrt, score=-3048022.123, total=   3.0s\n",
            "[CV] n_estimators=300, max_features=sqrt .............................\n",
            "[CV]  n_estimators=300, max_features=sqrt, score=-3610807.059, total=   3.0s\n",
            "[CV] n_estimators=300, max_features=sqrt .............................\n",
            "[CV]  n_estimators=300, max_features=sqrt, score=-3231682.294, total=   3.0s\n",
            "[CV] n_estimators=300, max_features=sqrt .............................\n",
            "[CV]  n_estimators=300, max_features=sqrt, score=-4148462.159, total=   3.0s\n",
            "[CV] n_estimators=300, max_features=sqrt .............................\n",
            "[CV]  n_estimators=300, max_features=sqrt, score=-5130784.289, total=   3.1s\n",
            "[CV] n_estimators=300, max_features=sqrt .............................\n",
            "[CV]  n_estimators=300, max_features=sqrt, score=-4743600.353, total=   3.1s\n",
            "[CV] n_estimators=300, max_features=sqrt .............................\n",
            "[CV]  n_estimators=300, max_features=sqrt, score=-7191845.280, total=   3.1s\n",
            "[CV] n_estimators=300, max_features=sqrt .............................\n",
            "[CV]  n_estimators=300, max_features=sqrt, score=-4655955.371, total=   3.1s\n",
            "[CV] n_estimators=300, max_features=sqrt .............................\n",
            "[CV]  n_estimators=300, max_features=sqrt, score=-3836370.025, total=   3.1s\n",
            "[CV] n_estimators=300, max_features=sqrt .............................\n",
            "[CV]  n_estimators=300, max_features=sqrt, score=-3520609.277, total=   3.1s\n",
            "[CV] n_estimators=600, max_features=auto .............................\n",
            "[CV]  n_estimators=600, max_features=auto, score=-3047472.284, total=  14.5s\n",
            "[CV] n_estimators=600, max_features=auto .............................\n",
            "[CV]  n_estimators=600, max_features=auto, score=-3535444.095, total=  14.6s\n",
            "[CV] n_estimators=600, max_features=auto .............................\n",
            "[CV]  n_estimators=600, max_features=auto, score=-3029621.980, total=  14.7s\n",
            "[CV] n_estimators=600, max_features=auto .............................\n",
            "[CV]  n_estimators=600, max_features=auto, score=-4024162.942, total=  14.7s\n",
            "[CV] n_estimators=600, max_features=auto .............................\n",
            "[CV]  n_estimators=600, max_features=auto, score=-4746261.872, total=  14.7s\n",
            "[CV] n_estimators=600, max_features=auto .............................\n",
            "[CV]  n_estimators=600, max_features=auto, score=-4214768.591, total=  14.6s\n",
            "[CV] n_estimators=600, max_features=auto .............................\n",
            "[CV]  n_estimators=600, max_features=auto, score=-6212601.211, total=  14.7s\n",
            "[CV] n_estimators=600, max_features=auto .............................\n",
            "[CV]  n_estimators=600, max_features=auto, score=-4182911.967, total=  14.8s\n",
            "[CV] n_estimators=600, max_features=auto .............................\n",
            "[CV]  n_estimators=600, max_features=auto, score=-3810548.704, total=  14.8s\n",
            "[CV] n_estimators=600, max_features=auto .............................\n",
            "[CV]  n_estimators=600, max_features=auto, score=-3621109.185, total=  14.9s\n",
            "[CV] n_estimators=300, max_features=auto .............................\n",
            "[CV]  n_estimators=300, max_features=auto, score=-3060090.498, total=   7.3s\n",
            "[CV] n_estimators=300, max_features=auto .............................\n",
            "[CV]  n_estimators=300, max_features=auto, score=-3481324.264, total=   7.3s\n",
            "[CV] n_estimators=300, max_features=auto .............................\n",
            "[CV]  n_estimators=300, max_features=auto, score=-3080339.651, total=   7.3s\n",
            "[CV] n_estimators=300, max_features=auto .............................\n",
            "[CV]  n_estimators=300, max_features=auto, score=-3984684.348, total=   7.3s\n",
            "[CV] n_estimators=300, max_features=auto .............................\n",
            "[CV]  n_estimators=300, max_features=auto, score=-4813149.956, total=   7.3s\n",
            "[CV] n_estimators=300, max_features=auto .............................\n",
            "[CV]  n_estimators=300, max_features=auto, score=-4214283.469, total=   7.3s\n",
            "[CV] n_estimators=300, max_features=auto .............................\n",
            "[CV]  n_estimators=300, max_features=auto, score=-6454971.006, total=   7.4s\n",
            "[CV] n_estimators=300, max_features=auto .............................\n",
            "[CV]  n_estimators=300, max_features=auto, score=-4185712.685, total=   7.4s\n",
            "[CV] n_estimators=300, max_features=auto .............................\n",
            "[CV]  n_estimators=300, max_features=auto, score=-3781244.175, total=   7.3s\n",
            "[CV] n_estimators=300, max_features=auto .............................\n",
            "[CV]  n_estimators=300, max_features=auto, score=-3672614.012, total=   7.3s\n"
          ],
          "name": "stdout"
        },
        {
          "output_type": "stream",
          "text": [
            "[Parallel(n_jobs=1)]: Done 100 out of 100 | elapsed: 11.7min finished\n"
          ],
          "name": "stderr"
        },
        {
          "output_type": "execute_result",
          "data": {
            "text/plain": [
              "RandomizedSearchCV(cv=10, error_score=nan,\n",
              "                   estimator=RandomForestRegressor(bootstrap=True,\n",
              "                                                   ccp_alpha=0.0,\n",
              "                                                   criterion='mse',\n",
              "                                                   max_depth=None,\n",
              "                                                   max_features='auto',\n",
              "                                                   max_leaf_nodes=None,\n",
              "                                                   max_samples=None,\n",
              "                                                   min_impurity_decrease=0.0,\n",
              "                                                   min_impurity_split=None,\n",
              "                                                   min_samples_leaf=1,\n",
              "                                                   min_samples_split=2,\n",
              "                                                   min_weight_fraction_leaf=0.0,\n",
              "                                                   n_estimators=100,\n",
              "                                                   n_jobs=None, oob_score=False,\n",
              "                                                   random_state=None, verbose=0,\n",
              "                                                   warm_start=False),\n",
              "                   iid='deprecated', n_iter=10, n_jobs=1,\n",
              "                   param_distributions={'max_features': ['auto', 'sqrt'],\n",
              "                                        'n_estimators': [100, 200, 300, 400,\n",
              "                                                         500, 600, 700, 800]},\n",
              "                   pre_dispatch='2*n_jobs', random_state=None, refit=True,\n",
              "                   return_train_score=False, scoring='neg_mean_squared_error',\n",
              "                   verbose=3)"
            ]
          },
          "metadata": {
            "tags": []
          },
          "execution_count": 64
        }
      ]
    },
    {
      "cell_type": "code",
      "metadata": {
        "colab": {
          "base_uri": "https://localhost:8080/"
        },
        "id": "Y13SUX1o7Q6q",
        "outputId": "7f616c15-32de-4a83-fbee-92779546fa89"
      },
      "source": [
        "random.best_params_"
      ],
      "execution_count": 65,
      "outputs": [
        {
          "output_type": "execute_result",
          "data": {
            "text/plain": [
              "{'max_features': 'auto', 'n_estimators': 700}"
            ]
          },
          "metadata": {
            "tags": []
          },
          "execution_count": 65
        }
      ]
    },
    {
      "cell_type": "code",
      "metadata": {
        "id": "eEAERPLXDo3P"
      },
      "source": [
        "prediction=random.predict(x_test)"
      ],
      "execution_count": 66,
      "outputs": []
    },
    {
      "cell_type": "code",
      "metadata": {
        "colab": {
          "base_uri": "https://localhost:8080/",
          "height": 280
        },
        "id": "PbV9wy2rEQ-Z",
        "outputId": "82eaf8c4-9302-46ee-98c7-2194bc8b8cb5"
      },
      "source": [
        "# plt.figure(figsize = (8,8))\r\n",
        "plt.scatter(y_test, prediction, alpha = 0.5)\r\n",
        "plt.xlabel(\"y_test\")\r\n",
        "plt.ylabel(\"y_pred\")\r\n",
        "plt.show()\r\n"
      ],
      "execution_count": 67,
      "outputs": [
        {
          "output_type": "display_data",
          "data": {
            "image/png": "[encoded data removed]",
            "text/plain": [
              "<Figure size 432x288 with 1 Axes>"
            ]
          },
          "metadata": {
            "tags": [],
            "needs_background": "light"
          }
        }
      ]
    },
    {
      "cell_type": "code",
      "metadata": {
        "colab": {
          "base_uri": "https://localhost:8080/"
        },
        "id": "SfyC3vJiEgDv",
        "outputId": "4dfe99cf-2b5c-44b7-e9bc-bcc1c6182b0e"
      },
      "source": [
        "print('MAE:',mean_absolute_error(y_test, prediction))\r\n",
        "print('MSE:',mean_squared_error(y_test, prediction))\r\n",
        "print('RMSE:',np.sqrt(mean_squared_error(y_test, prediction)))"
      ],
      "execution_count": 68,
      "outputs": [
        {
          "output_type": "stream",
          "text": [
            "MAE: 1191.6768442910713\n",
            "MSE: 4547979.9236993\n",
            "RMSE: 2132.599335013331\n"
          ],
          "name": "stdout"
        }
      ]
    },
    {
      "cell_type": "code",
      "metadata": {
        "colab": {
          "base_uri": "https://localhost:8080/"
        },
        "id": "AnYd18GHE6EN",
        "outputId": "dc140676-87b8-4464-a4c5-3691e87c4f83"
      },
      "source": [
        "r2_score(y_test,prediction)"
      ],
      "execution_count": 69,
      "outputs": [
        {
          "output_type": "execute_result",
          "data": {
            "text/plain": [
              "0.7890748518914232"
            ]
          },
          "metadata": {
            "tags": []
          },
          "execution_count": 69
        }
      ]
    },
    {
      "cell_type": "code",
      "metadata": {
        "colab": {
          "base_uri": "https://localhost:8080/"
        },
        "id": "j2KIfL3KFJCy",
        "outputId": "718e7486-daf7-441e-cb67-a01cec9208aa"
      },
      "source": [
        "random.predict([[3,0,5,0,40,4,22,20,2,10,3,40]])"
      ],
      "execution_count": 70,
      "outputs": [
        {
          "output_type": "execute_result",
          "data": {
            "text/plain": [
              "array([5876.87690476])"
            ]
          },
          "metadata": {
            "tags": []
          },
          "execution_count": 70
        }
      ]
    },
    {
      "cell_type": "code",
      "metadata": {
        "id": "FigTqkQwF05c"
      },
      "source": [
        "from sklearn.tree import DecisionTreeRegressor"
      ],
      "execution_count": 71,
      "outputs": []
    },
    {
      "cell_type": "code",
      "metadata": {
        "id": "JoSpuqeh5aoc"
      },
      "source": [
        "tree=DecisionTreeRegressor()"
      ],
      "execution_count": 72,
      "outputs": []
    },
    {
      "cell_type": "code",
      "metadata": {
        "id": "Ihe8Rfr05dXP",
        "outputId": "9b763a87-41e1-4ce2-a148-8d37db206526",
        "colab": {
          "base_uri": "https://localhost:8080/"
        }
      },
      "source": [
        "tree.fit(x_train,y_train)"
      ],
      "execution_count": 73,
      "outputs": [
        {
          "output_type": "execute_result",
          "data": {
            "text/plain": [
              "DecisionTreeRegressor(ccp_alpha=0.0, criterion='mse', max_depth=None,\n",
              "                      max_features=None, max_leaf_nodes=None,\n",
              "                      min_impurity_decrease=0.0, min_impurity_split=None,\n",
              "                      min_samples_leaf=1, min_samples_split=2,\n",
              "                      min_weight_fraction_leaf=0.0, presort='deprecated',\n",
              "                      random_state=None, splitter='best')"
            ]
          },
          "metadata": {
            "tags": []
          },
          "execution_count": 73
        }
      ]
    },
    {
      "cell_type": "code",
      "metadata": {
        "id": "xT1Thl5d5hTU"
      },
      "source": [
        "tree_pred=tree.predict(x_test)"
      ],
      "execution_count": 74,
      "outputs": []
    },
    {
      "cell_type": "code",
      "metadata": {
        "id": "w9lNC3A75nSn",
        "outputId": "146fa4de-b027-4e01-9594-b19e41742537",
        "colab": {
          "base_uri": "https://localhost:8080/"
        }
      },
      "source": [
        "tree.score(x_train,y_train)"
      ],
      "execution_count": 75,
      "outputs": [
        {
          "output_type": "execute_result",
          "data": {
            "text/plain": [
              "0.9692484150527354"
            ]
          },
          "metadata": {
            "tags": []
          },
          "execution_count": 75
        }
      ]
    },
    {
      "cell_type": "code",
      "metadata": {
        "id": "bUB9jjNC6BqV",
        "outputId": "1ac157b9-bfc5-4c5f-89e1-b246ba56cc1d",
        "colab": {
          "base_uri": "https://localhost:8080/"
        }
      },
      "source": [
        "tree.score(x_test,y_test)"
      ],
      "execution_count": 76,
      "outputs": [
        {
          "output_type": "execute_result",
          "data": {
            "text/plain": [
              "0.7239397886953778"
            ]
          },
          "metadata": {
            "tags": []
          },
          "execution_count": 76
        }
      ]
    }
  ]
}